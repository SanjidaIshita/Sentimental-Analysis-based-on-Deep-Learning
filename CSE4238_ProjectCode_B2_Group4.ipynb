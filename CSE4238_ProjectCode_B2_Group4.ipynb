{
  "cells": [
    {
      "cell_type": "code",
      "execution_count": null,
      "metadata": {
        "id": "Exe7tmHUXJiF"
      },
      "outputs": [],
      "source": [
        "import pandas as pd\n",
        "import numpy as np\n",
        "import math\n",
        "import re\n",
        "import random\n",
        "import nltk\n",
        "from nltk.stem import WordNetLemmatizer\n",
        "from nltk.tokenize import WhitespaceTokenizer\n",
        "\n",
        "from keras.preprocessing.text import Tokenizer\n",
        "from keras.preprocessing.sequence import pad_sequences\n",
        "from keras.utils.np_utils import to_categorical\n",
        "from keras.utils.vis_utils import plot_model\n",
        "\n",
        "from sklearn.model_selection import train_test_split\n",
        "\n",
        "import matplotlib as mpl\n",
        "import matplotlib.pyplot as plt\n",
        "import seaborn as sb"
      ]
    },
    {
      "cell_type": "code",
      "execution_count": null,
      "metadata": {
        "colab": {
          "base_uri": "https://localhost:8080/"
        },
        "id": "pLIiaPAzbbT2",
        "outputId": "7527050b-1b45-4533-94df-adf6fad269fb"
      },
      "outputs": [
        {
          "name": "stdout",
          "output_type": "stream",
          "text": [
            "Drive already mounted at /content/drive; to attempt to forcibly remount, call drive.mount(\"/content/drive\", force_remount=True).\n"
          ]
        }
      ],
      "source": [
        "from google.colab import drive\n",
        "drive.mount('/content/drive')"
      ]
    },
    {
      "cell_type": "code",
      "execution_count": null,
      "metadata": {
        "colab": {
          "base_uri": "https://localhost:8080/"
        },
        "id": "fxn1O7nAdl5_",
        "outputId": "1d1a4212-eee8-4592-f8c5-13047309ac42"
      },
      "outputs": [
        {
          "name": "stdout",
          "output_type": "stream",
          "text": [
            "Archive:  /content/drive/MyDrive/IMDB Dataset.csv.zip\n",
            "replace IMDB Dataset.csv? [y]es, [n]o, [A]ll, [N]one, [r]ename: n\n"
          ]
        }
      ],
      "source": [
        "!unzip '/content/drive/MyDrive/IMDB Dataset.csv.zip'"
      ]
    },
    {
      "cell_type": "code",
      "execution_count": null,
      "metadata": {
        "id": "RkzQGcDSdqDC"
      },
      "outputs": [],
      "source": [
        "df = pd.read_csv('/content/IMDB Dataset.csv')\n",
        "df = df.sample(frac=1)"
      ]
    },
    {
      "cell_type": "code",
      "execution_count": null,
      "metadata": {
        "id": "ZWAYoaxuelwB"
      },
      "outputs": [],
      "source": [
        "df['target'] = 0\n",
        "\n",
        "a = 0\n",
        "for i, row in df.iterrows():\n",
        "    if ((row['sentiment'] == 'positive')):\n",
        "        a = 1\n",
        "    else:\n",
        "        a = 0\n",
        "    df.at[i,'target'] = a"
      ]
    },
    {
      "cell_type": "code",
      "execution_count": null,
      "metadata": {
        "colab": {
          "base_uri": "https://localhost:8080/",
          "height": 363
        },
        "id": "toZwvzy4er9j",
        "outputId": "dedddf1f-a527-48aa-8fec-e75ebc6ad268"
      },
      "outputs": [
        {
          "data": {
            "text/html": [
              "\n",
              "  <div id=\"df-05e70515-3adc-438c-a717-4e4f63da1094\">\n",
              "    <div class=\"colab-df-container\">\n",
              "      <div>\n",
              "<style scoped>\n",
              "    .dataframe tbody tr th:only-of-type {\n",
              "        vertical-align: middle;\n",
              "    }\n",
              "\n",
              "    .dataframe tbody tr th {\n",
              "        vertical-align: top;\n",
              "    }\n",
              "\n",
              "    .dataframe thead th {\n",
              "        text-align: right;\n",
              "    }\n",
              "</style>\n",
              "<table border=\"1\" class=\"dataframe\">\n",
              "  <thead>\n",
              "    <tr style=\"text-align: right;\">\n",
              "      <th></th>\n",
              "      <th>review</th>\n",
              "      <th>sentiment</th>\n",
              "      <th>target</th>\n",
              "    </tr>\n",
              "  </thead>\n",
              "  <tbody>\n",
              "    <tr>\n",
              "      <th>29223</th>\n",
              "      <td>I really liked this movie. I watched it last n...</td>\n",
              "      <td>positive</td>\n",
              "      <td>1</td>\n",
              "    </tr>\n",
              "    <tr>\n",
              "      <th>34213</th>\n",
              "      <td>Shecky, is a god damned legend, make no mistak...</td>\n",
              "      <td>negative</td>\n",
              "      <td>0</td>\n",
              "    </tr>\n",
              "    <tr>\n",
              "      <th>5159</th>\n",
              "      <td>Along with Fernando Fragata, João Mário Grilo,...</td>\n",
              "      <td>positive</td>\n",
              "      <td>1</td>\n",
              "    </tr>\n",
              "    <tr>\n",
              "      <th>5585</th>\n",
              "      <td>The second alternate Gundam universe tale (G-G...</td>\n",
              "      <td>positive</td>\n",
              "      <td>1</td>\n",
              "    </tr>\n",
              "    <tr>\n",
              "      <th>20044</th>\n",
              "      <td>I went to see the Omega Code with a group of o...</td>\n",
              "      <td>negative</td>\n",
              "      <td>0</td>\n",
              "    </tr>\n",
              "    <tr>\n",
              "      <th>12911</th>\n",
              "      <td>While the prominent and over use of the play-l...</td>\n",
              "      <td>negative</td>\n",
              "      <td>0</td>\n",
              "    </tr>\n",
              "    <tr>\n",
              "      <th>33385</th>\n",
              "      <td>this flick is strange but i liked it a lot. it...</td>\n",
              "      <td>positive</td>\n",
              "      <td>1</td>\n",
              "    </tr>\n",
              "    <tr>\n",
              "      <th>42832</th>\n",
              "      <td>With a relatively small budget for an animated...</td>\n",
              "      <td>positive</td>\n",
              "      <td>1</td>\n",
              "    </tr>\n",
              "    <tr>\n",
              "      <th>30989</th>\n",
              "      <td>I first saw this video 15 years ago. I thought...</td>\n",
              "      <td>positive</td>\n",
              "      <td>1</td>\n",
              "    </tr>\n",
              "    <tr>\n",
              "      <th>40768</th>\n",
              "      <td>Another FINE effort by America's most UNDERrat...</td>\n",
              "      <td>negative</td>\n",
              "      <td>0</td>\n",
              "    </tr>\n",
              "  </tbody>\n",
              "</table>\n",
              "</div>\n",
              "      <button class=\"colab-df-convert\" onclick=\"convertToInteractive('df-05e70515-3adc-438c-a717-4e4f63da1094')\"\n",
              "              title=\"Convert this dataframe to an interactive table.\"\n",
              "              style=\"display:none;\">\n",
              "        \n",
              "  <svg xmlns=\"http://www.w3.org/2000/svg\" height=\"24px\"viewBox=\"0 0 24 24\"\n",
              "       width=\"24px\">\n",
              "    <path d=\"M0 0h24v24H0V0z\" fill=\"none\"/>\n",
              "    <path d=\"M18.56 5.44l.94 2.06.94-2.06 2.06-.94-2.06-.94-.94-2.06-.94 2.06-2.06.94zm-11 1L8.5 8.5l.94-2.06 2.06-.94-2.06-.94L8.5 2.5l-.94 2.06-2.06.94zm10 10l.94 2.06.94-2.06 2.06-.94-2.06-.94-.94-2.06-.94 2.06-2.06.94z\"/><path d=\"M17.41 7.96l-1.37-1.37c-.4-.4-.92-.59-1.43-.59-.52 0-1.04.2-1.43.59L10.3 9.45l-7.72 7.72c-.78.78-.78 2.05 0 2.83L4 21.41c.39.39.9.59 1.41.59.51 0 1.02-.2 1.41-.59l7.78-7.78 2.81-2.81c.8-.78.8-2.07 0-2.86zM5.41 20L4 18.59l7.72-7.72 1.47 1.35L5.41 20z\"/>\n",
              "  </svg>\n",
              "      </button>\n",
              "      \n",
              "  <style>\n",
              "    .colab-df-container {\n",
              "      display:flex;\n",
              "      flex-wrap:wrap;\n",
              "      gap: 12px;\n",
              "    }\n",
              "\n",
              "    .colab-df-convert {\n",
              "      background-color: #E8F0FE;\n",
              "      border: none;\n",
              "      border-radius: 50%;\n",
              "      cursor: pointer;\n",
              "      display: none;\n",
              "      fill: #1967D2;\n",
              "      height: 32px;\n",
              "      padding: 0 0 0 0;\n",
              "      width: 32px;\n",
              "    }\n",
              "\n",
              "    .colab-df-convert:hover {\n",
              "      background-color: #E2EBFA;\n",
              "      box-shadow: 0px 1px 2px rgba(60, 64, 67, 0.3), 0px 1px 3px 1px rgba(60, 64, 67, 0.15);\n",
              "      fill: #174EA6;\n",
              "    }\n",
              "\n",
              "    [theme=dark] .colab-df-convert {\n",
              "      background-color: #3B4455;\n",
              "      fill: #D2E3FC;\n",
              "    }\n",
              "\n",
              "    [theme=dark] .colab-df-convert:hover {\n",
              "      background-color: #434B5C;\n",
              "      box-shadow: 0px 1px 3px 1px rgba(0, 0, 0, 0.15);\n",
              "      filter: drop-shadow(0px 1px 2px rgba(0, 0, 0, 0.3));\n",
              "      fill: #FFFFFF;\n",
              "    }\n",
              "  </style>\n",
              "\n",
              "      <script>\n",
              "        const buttonEl =\n",
              "          document.querySelector('#df-05e70515-3adc-438c-a717-4e4f63da1094 button.colab-df-convert');\n",
              "        buttonEl.style.display =\n",
              "          google.colab.kernel.accessAllowed ? 'block' : 'none';\n",
              "\n",
              "        async function convertToInteractive(key) {\n",
              "          const element = document.querySelector('#df-05e70515-3adc-438c-a717-4e4f63da1094');\n",
              "          const dataTable =\n",
              "            await google.colab.kernel.invokeFunction('convertToInteractive',\n",
              "                                                     [key], {});\n",
              "          if (!dataTable) return;\n",
              "\n",
              "          const docLinkHtml = 'Like what you see? Visit the ' +\n",
              "            '<a target=\"_blank\" href=https://colab.research.google.com/notebooks/data_table.ipynb>data table notebook</a>'\n",
              "            + ' to learn more about interactive tables.';\n",
              "          element.innerHTML = '';\n",
              "          dataTable['output_type'] = 'display_data';\n",
              "          await google.colab.output.renderOutput(dataTable, element);\n",
              "          const docLink = document.createElement('div');\n",
              "          docLink.innerHTML = docLinkHtml;\n",
              "          element.appendChild(docLink);\n",
              "        }\n",
              "      </script>\n",
              "    </div>\n",
              "  </div>\n",
              "  "
            ],
            "text/plain": [
              "                                                  review sentiment  target\n",
              "29223  I really liked this movie. I watched it last n...  positive       1\n",
              "34213  Shecky, is a god damned legend, make no mistak...  negative       0\n",
              "5159   Along with Fernando Fragata, João Mário Grilo,...  positive       1\n",
              "5585   The second alternate Gundam universe tale (G-G...  positive       1\n",
              "20044  I went to see the Omega Code with a group of o...  negative       0\n",
              "12911  While the prominent and over use of the play-l...  negative       0\n",
              "33385  this flick is strange but i liked it a lot. it...  positive       1\n",
              "42832  With a relatively small budget for an animated...  positive       1\n",
              "30989  I first saw this video 15 years ago. I thought...  positive       1\n",
              "40768  Another FINE effort by America's most UNDERrat...  negative       0"
            ]
          },
          "execution_count": 38,
          "metadata": {},
          "output_type": "execute_result"
        }
      ],
      "source": [
        "df[['review','sentiment', 'target']].iloc[range(10)]"
      ]
    },
    {
      "cell_type": "code",
      "execution_count": null,
      "metadata": {
        "id": "P8x7KifDexZe"
      },
      "outputs": [],
      "source": [
        "# removing mentions, links, tags\n",
        "\n",
        "import re\n",
        "\n",
        "def removing_mentions(text):\n",
        "    text = re.sub(r'@[A-Za-z0-9]+', '', text)     # removing @mentions\n",
        "    text = re.sub(r'@[A-Za-zA-Z0-9]+', '', text)  # removing @mentions \n",
        "    text = re.sub(r'@[A-Za-z]+', '', text)        # removing @mentions\n",
        "    text = re.sub(r'@[-)]+', '', text)            # removing @mentions\n",
        "\n",
        "    return text\n",
        "\n",
        "def removeing_links(text):\n",
        "    text = re.sub(r'https?\\/\\/\\S+', '', text)     # removing the hyper link\n",
        "    text = re.sub(r'http?\\/\\/\\S+', '', text)     # removing the hyper link\n",
        "    \n",
        "    return text\n",
        "\n",
        "def removing_tags(text):\n",
        "    text = re.sub(r'#', '', text )              # removing '#' sign\n",
        "    text = re.sub(r'RT[\\s]+', '', text)         # removing RT\n",
        "    text = re.sub(r'&[a-z;]+', '', text)        # removing '&gt;'\n",
        "    \n",
        "    return text"
      ]
    },
    {
      "cell_type": "code",
      "execution_count": null,
      "metadata": {
        "id": "Q6JnhGbOe9La"
      },
      "outputs": [],
      "source": [
        "df['review'] = df['review'].apply(removeing_links)\n",
        "df['review'] = df['review'].apply(removing_mentions)\n",
        "df['review'] = df['review'].apply(removing_tags)"
      ]
    },
    {
      "cell_type": "code",
      "execution_count": null,
      "metadata": {
        "id": "i8mEgKvUfBPH"
      },
      "outputs": [],
      "source": [
        "df.to_csv('/content/drive/MyDrive/dataset_v1.csv')"
      ]
    },
    {
      "cell_type": "code",
      "execution_count": null,
      "metadata": {
        "colab": {
          "base_uri": "https://localhost:8080/"
        },
        "id": "TbyfGwPzg0rO",
        "outputId": "b894e2f0-53d3-47e6-b92e-bba0d91ad199"
      },
      "outputs": [
        {
          "name": "stdout",
          "output_type": "stream",
          "text": [
            "[nltk_data] Downloading package stopwords to /root/nltk_data...\n",
            "[nltk_data]   Package stopwords is already up-to-date!\n"
          ]
        }
      ],
      "source": [
        "nltk.download('stopwords')\n",
        "stopwords = nltk.corpus.stopwords.words('english')\n",
        "\n",
        "def remove_stop_words(tweet):\n",
        "    words = tweet.lower().split()\n",
        "    clean_words = []\n",
        "    for word in words:\n",
        "        if word not in stopwords:\n",
        "            clean_words.append(word)\n",
        "            \n",
        "    clean_tweet = ' '.join(clean_words)\n",
        "    return clean_tweet"
      ]
    },
    {
      "cell_type": "code",
      "execution_count": null,
      "metadata": {
        "id": "-wEJnFNlhSR-"
      },
      "outputs": [],
      "source": [
        "df['review'] = df['review'].apply(lambda review : remove_stop_words(str(review)))"
      ]
    },
    {
      "cell_type": "code",
      "execution_count": null,
      "metadata": {
        "colab": {
          "base_uri": "https://localhost:8080/"
        },
        "id": "2XG7m_7Ni8r_",
        "outputId": "be872959-a462-431d-8363-dc60efa72071"
      },
      "outputs": [
        {
          "name": "stdout",
          "output_type": "stream",
          "text": [
            "Collecting xlsxwriter\n",
            "  Downloading XlsxWriter-3.0.3-py3-none-any.whl (149 kB)\n",
            "\u001b[?25l\r\u001b[K     |██▏                             | 10 kB 8.2 MB/s eta 0:00:01\r\u001b[K     |████▍                           | 20 kB 12.3 MB/s eta 0:00:01\r\u001b[K     |██████▌                         | 30 kB 14.7 MB/s eta 0:00:01\r\u001b[K     |████████▊                       | 40 kB 11.4 MB/s eta 0:00:01\r\u001b[K     |███████████                     | 51 kB 7.5 MB/s eta 0:00:01\r\u001b[K     |█████████████                   | 61 kB 8.8 MB/s eta 0:00:01\r\u001b[K     |███████████████▎                | 71 kB 8.0 MB/s eta 0:00:01\r\u001b[K     |█████████████████▌              | 81 kB 7.7 MB/s eta 0:00:01\r\u001b[K     |███████████████████▋            | 92 kB 8.6 MB/s eta 0:00:01\r\u001b[K     |█████████████████████▉          | 102 kB 8.7 MB/s eta 0:00:01\r\u001b[K     |████████████████████████        | 112 kB 8.7 MB/s eta 0:00:01\r\u001b[K     |██████████████████████████▏     | 122 kB 8.7 MB/s eta 0:00:01\r\u001b[K     |████████████████████████████▍   | 133 kB 8.7 MB/s eta 0:00:01\r\u001b[K     |██████████████████████████████▋ | 143 kB 8.7 MB/s eta 0:00:01\r\u001b[K     |████████████████████████████████| 149 kB 8.7 MB/s \n",
            "\u001b[?25hInstalling collected packages: xlsxwriter\n",
            "Successfully installed xlsxwriter-3.0.3\n"
          ]
        }
      ],
      "source": [
        "!pip install xlsxwriter"
      ]
    },
    {
      "cell_type": "code",
      "execution_count": null,
      "metadata": {
        "id": "tTtOCIWsjBli"
      },
      "outputs": [],
      "source": [
        "# df.to_csv('without_stopwords.csv')\n",
        "df.to_csv('/content/drive/MyDrive/without_stopwords.csv')"
      ]
    },
    {
      "cell_type": "code",
      "execution_count": null,
      "metadata": {
        "colab": {
          "base_uri": "https://localhost:8080/"
        },
        "id": "EH2WnH4mjGm4",
        "outputId": "8e9ecb58-24cf-40f4-8487-3ac1edbf1517"
      },
      "outputs": [
        {
          "name": "stdout",
          "output_type": "stream",
          "text": [
            "[nltk_data] Downloading package wordnet to /root/nltk_data...\n",
            "[nltk_data]   Package wordnet is already up-to-date!\n"
          ]
        }
      ],
      "source": [
        "nltk.download('wordnet')\n",
        "def lemmatization(tweet):\n",
        "    lemmatizer = WordNetLemmatizer()\n",
        "    \n",
        "    tokenizer = WhitespaceTokenizer()\n",
        "    tokens = tokenizer.tokenize(tweet)\n",
        "\n",
        "    tweet_tokens = []\n",
        "    for word in tokens:\n",
        "        word_lemmatized = lemmatizer.lemmatize(word)\n",
        "        tweet_tokens.append(word_lemmatized)\n",
        "\n",
        "    clean_tweet = ' '.join(tweet_tokens)\n",
        "    return clean_tweet"
      ]
    },
    {
      "cell_type": "code",
      "execution_count": null,
      "metadata": {
        "id": "MkZKhNS6jLGs"
      },
      "outputs": [],
      "source": [
        "df['review'] = df['review'].apply(lambda review : lemmatization(str(review)))"
      ]
    },
    {
      "cell_type": "code",
      "execution_count": null,
      "metadata": {
        "colab": {
          "base_uri": "https://localhost:8080/",
          "height": 363
        },
        "id": "-_5CwVMfjOyS",
        "outputId": "0167be83-ebe5-48e4-ac9c-3cb11d083050"
      },
      "outputs": [
        {
          "data": {
            "text/html": [
              "\n",
              "  <div id=\"df-ed47ff64-9952-4fe0-9603-6758d1ed5a91\">\n",
              "    <div class=\"colab-df-container\">\n",
              "      <div>\n",
              "<style scoped>\n",
              "    .dataframe tbody tr th:only-of-type {\n",
              "        vertical-align: middle;\n",
              "    }\n",
              "\n",
              "    .dataframe tbody tr th {\n",
              "        vertical-align: top;\n",
              "    }\n",
              "\n",
              "    .dataframe thead th {\n",
              "        text-align: right;\n",
              "    }\n",
              "</style>\n",
              "<table border=\"1\" class=\"dataframe\">\n",
              "  <thead>\n",
              "    <tr style=\"text-align: right;\">\n",
              "      <th></th>\n",
              "      <th>review</th>\n",
              "      <th>sentiment</th>\n",
              "      <th>target</th>\n",
              "    </tr>\n",
              "  </thead>\n",
              "  <tbody>\n",
              "    <tr>\n",
              "      <th>29223</th>\n",
              "      <td>really liked movie. watched last night public ...</td>\n",
              "      <td>positive</td>\n",
              "      <td>1</td>\n",
              "    </tr>\n",
              "    <tr>\n",
              "      <th>34213</th>\n",
              "      <td>shecky, god damned legend, make mistake. recen...</td>\n",
              "      <td>negative</td>\n",
              "      <td>0</td>\n",
              "    </tr>\n",
              "    <tr>\n",
              "      <th>5159</th>\n",
              "      <td>along fernando fragata, joão mário grilo, abi ...</td>\n",
              "      <td>positive</td>\n",
              "      <td>1</td>\n",
              "    </tr>\n",
              "    <tr>\n",
              "      <th>5585</th>\n",
              "      <td>second alternate gundam universe tale (g-gunda...</td>\n",
              "      <td>positive</td>\n",
              "      <td>1</td>\n",
              "    </tr>\n",
              "    <tr>\n",
              "      <th>20044</th>\n",
              "      <td>went see omega code group christian totaling 1...</td>\n",
              "      <td>negative</td>\n",
              "      <td>0</td>\n",
              "    </tr>\n",
              "    <tr>\n",
              "      <th>12911</th>\n",
              "      <td>prominent use play-like format total operation...</td>\n",
              "      <td>negative</td>\n",
              "      <td>0</td>\n",
              "    </tr>\n",
              "    <tr>\n",
              "      <th>33385</th>\n",
              "      <td>flick strange liked lot. good girl love bad bo...</td>\n",
              "      <td>positive</td>\n",
              "      <td>1</td>\n",
              "    </tr>\n",
              "    <tr>\n",
              "      <th>42832</th>\n",
              "      <td>relatively small budget animated film $60 mill...</td>\n",
              "      <td>positive</td>\n",
              "      <td>1</td>\n",
              "    </tr>\n",
              "    <tr>\n",
              "      <th>30989</th>\n",
              "      <td>first saw video 15 year ago. thought excellent...</td>\n",
              "      <td>positive</td>\n",
              "      <td>1</td>\n",
              "    </tr>\n",
              "    <tr>\n",
              "      <th>40768</th>\n",
              "      <td>another fine effort america's underrated filmm...</td>\n",
              "      <td>negative</td>\n",
              "      <td>0</td>\n",
              "    </tr>\n",
              "  </tbody>\n",
              "</table>\n",
              "</div>\n",
              "      <button class=\"colab-df-convert\" onclick=\"convertToInteractive('df-ed47ff64-9952-4fe0-9603-6758d1ed5a91')\"\n",
              "              title=\"Convert this dataframe to an interactive table.\"\n",
              "              style=\"display:none;\">\n",
              "        \n",
              "  <svg xmlns=\"http://www.w3.org/2000/svg\" height=\"24px\"viewBox=\"0 0 24 24\"\n",
              "       width=\"24px\">\n",
              "    <path d=\"M0 0h24v24H0V0z\" fill=\"none\"/>\n",
              "    <path d=\"M18.56 5.44l.94 2.06.94-2.06 2.06-.94-2.06-.94-.94-2.06-.94 2.06-2.06.94zm-11 1L8.5 8.5l.94-2.06 2.06-.94-2.06-.94L8.5 2.5l-.94 2.06-2.06.94zm10 10l.94 2.06.94-2.06 2.06-.94-2.06-.94-.94-2.06-.94 2.06-2.06.94z\"/><path d=\"M17.41 7.96l-1.37-1.37c-.4-.4-.92-.59-1.43-.59-.52 0-1.04.2-1.43.59L10.3 9.45l-7.72 7.72c-.78.78-.78 2.05 0 2.83L4 21.41c.39.39.9.59 1.41.59.51 0 1.02-.2 1.41-.59l7.78-7.78 2.81-2.81c.8-.78.8-2.07 0-2.86zM5.41 20L4 18.59l7.72-7.72 1.47 1.35L5.41 20z\"/>\n",
              "  </svg>\n",
              "      </button>\n",
              "      \n",
              "  <style>\n",
              "    .colab-df-container {\n",
              "      display:flex;\n",
              "      flex-wrap:wrap;\n",
              "      gap: 12px;\n",
              "    }\n",
              "\n",
              "    .colab-df-convert {\n",
              "      background-color: #E8F0FE;\n",
              "      border: none;\n",
              "      border-radius: 50%;\n",
              "      cursor: pointer;\n",
              "      display: none;\n",
              "      fill: #1967D2;\n",
              "      height: 32px;\n",
              "      padding: 0 0 0 0;\n",
              "      width: 32px;\n",
              "    }\n",
              "\n",
              "    .colab-df-convert:hover {\n",
              "      background-color: #E2EBFA;\n",
              "      box-shadow: 0px 1px 2px rgba(60, 64, 67, 0.3), 0px 1px 3px 1px rgba(60, 64, 67, 0.15);\n",
              "      fill: #174EA6;\n",
              "    }\n",
              "\n",
              "    [theme=dark] .colab-df-convert {\n",
              "      background-color: #3B4455;\n",
              "      fill: #D2E3FC;\n",
              "    }\n",
              "\n",
              "    [theme=dark] .colab-df-convert:hover {\n",
              "      background-color: #434B5C;\n",
              "      box-shadow: 0px 1px 3px 1px rgba(0, 0, 0, 0.15);\n",
              "      filter: drop-shadow(0px 1px 2px rgba(0, 0, 0, 0.3));\n",
              "      fill: #FFFFFF;\n",
              "    }\n",
              "  </style>\n",
              "\n",
              "      <script>\n",
              "        const buttonEl =\n",
              "          document.querySelector('#df-ed47ff64-9952-4fe0-9603-6758d1ed5a91 button.colab-df-convert');\n",
              "        buttonEl.style.display =\n",
              "          google.colab.kernel.accessAllowed ? 'block' : 'none';\n",
              "\n",
              "        async function convertToInteractive(key) {\n",
              "          const element = document.querySelector('#df-ed47ff64-9952-4fe0-9603-6758d1ed5a91');\n",
              "          const dataTable =\n",
              "            await google.colab.kernel.invokeFunction('convertToInteractive',\n",
              "                                                     [key], {});\n",
              "          if (!dataTable) return;\n",
              "\n",
              "          const docLinkHtml = 'Like what you see? Visit the ' +\n",
              "            '<a target=\"_blank\" href=https://colab.research.google.com/notebooks/data_table.ipynb>data table notebook</a>'\n",
              "            + ' to learn more about interactive tables.';\n",
              "          element.innerHTML = '';\n",
              "          dataTable['output_type'] = 'display_data';\n",
              "          await google.colab.output.renderOutput(dataTable, element);\n",
              "          const docLink = document.createElement('div');\n",
              "          docLink.innerHTML = docLinkHtml;\n",
              "          element.appendChild(docLink);\n",
              "        }\n",
              "      </script>\n",
              "    </div>\n",
              "  </div>\n",
              "  "
            ],
            "text/plain": [
              "                                                  review sentiment  target\n",
              "29223  really liked movie. watched last night public ...  positive       1\n",
              "34213  shecky, god damned legend, make mistake. recen...  negative       0\n",
              "5159   along fernando fragata, joão mário grilo, abi ...  positive       1\n",
              "5585   second alternate gundam universe tale (g-gunda...  positive       1\n",
              "20044  went see omega code group christian totaling 1...  negative       0\n",
              "12911  prominent use play-like format total operation...  negative       0\n",
              "33385  flick strange liked lot. good girl love bad bo...  positive       1\n",
              "42832  relatively small budget animated film $60 mill...  positive       1\n",
              "30989  first saw video 15 year ago. thought excellent...  positive       1\n",
              "40768  another fine effort america's underrated filmm...  negative       0"
            ]
          },
          "execution_count": 50,
          "metadata": {},
          "output_type": "execute_result"
        }
      ],
      "source": [
        "df[['review','sentiment', 'target']].iloc[range(10)]"
      ]
    },
    {
      "cell_type": "code",
      "execution_count": null,
      "metadata": {
        "id": "4JxDcECVjelF"
      },
      "outputs": [],
      "source": [
        "df.to_csv('/content/drive/MyDrive/after_lemmatization.csv')"
      ]
    },
    {
      "cell_type": "code",
      "execution_count": null,
      "metadata": {
        "colab": {
          "base_uri": "https://localhost:8080/",
          "height": 428
        },
        "id": "T4wAzTePjk-2",
        "outputId": "3a0a7f89-1838-47f2-83d6-7c93d72008e2"
      },
      "outputs": [
        {
          "data": {
            "image/png": "[encoded data removed]",
            "text/plain": [
              "<Figure size 720x504 with 1 Axes>"
            ]
          },
          "metadata": {},
          "output_type": "display_data"
        }
      ],
      "source": [
        "df['length'] = 0\n",
        "\n",
        "a = 0\n",
        "for i, row in df.iterrows():\n",
        "    l = len(row['review'])\n",
        "    df.at[i,'length'] = l\n",
        "\n",
        "length_array = df['length'].to_numpy()\n",
        "\n",
        "fig, ax = plt.subplots(figsize =(10, 7))\n",
        "ax.hist(length_array, bins=500)\n",
        " \n",
        "# Show plot\n",
        "plt.show()"
      ]
    },
    {
      "cell_type": "code",
      "execution_count": null,
      "metadata": {
        "colab": {
          "base_uri": "https://localhost:8080/",
          "height": 206
        },
        "id": "OKVSIqtKjrFU",
        "outputId": "b78f6f45-47f3-458e-9d1a-141a9f2282c2"
      },
      "outputs": [
        {
          "data": {
            "text/html": [
              "\n",
              "  <div id=\"df-850f9fd9-30f9-4433-853f-6b9a1cf24245\">\n",
              "    <div class=\"colab-df-container\">\n",
              "      <div>\n",
              "<style scoped>\n",
              "    .dataframe tbody tr th:only-of-type {\n",
              "        vertical-align: middle;\n",
              "    }\n",
              "\n",
              "    .dataframe tbody tr th {\n",
              "        vertical-align: top;\n",
              "    }\n",
              "\n",
              "    .dataframe thead th {\n",
              "        text-align: right;\n",
              "    }\n",
              "</style>\n",
              "<table border=\"1\" class=\"dataframe\">\n",
              "  <thead>\n",
              "    <tr style=\"text-align: right;\">\n",
              "      <th></th>\n",
              "      <th>review</th>\n",
              "      <th>sentiment</th>\n",
              "      <th>target</th>\n",
              "      <th>length</th>\n",
              "    </tr>\n",
              "  </thead>\n",
              "  <tbody>\n",
              "    <tr>\n",
              "      <th>8718</th>\n",
              "      <td>hard use word movie, since contains none itsel...</td>\n",
              "      <td>positive</td>\n",
              "      <td>1</td>\n",
              "      <td>241</td>\n",
              "    </tr>\n",
              "    <tr>\n",
              "      <th>14211</th>\n",
              "      <td>say necromaniac/schizophreniac 2 series is... ...</td>\n",
              "      <td>positive</td>\n",
              "      <td>1</td>\n",
              "      <td>1271</td>\n",
              "    </tr>\n",
              "    <tr>\n",
              "      <th>48907</th>\n",
              "      <td>so-so thriller starring brad pitt juliette lew...</td>\n",
              "      <td>positive</td>\n",
              "      <td>1</td>\n",
              "      <td>480</td>\n",
              "    </tr>\n",
              "    <tr>\n",
              "      <th>29804</th>\n",
              "      <td>sat part che last night, back back brief bathr...</td>\n",
              "      <td>positive</td>\n",
              "      <td>1</td>\n",
              "      <td>2911</td>\n",
              "    </tr>\n",
              "    <tr>\n",
              "      <th>38386</th>\n",
              "      <td>unfortunately one movie least make laugh unbel...</td>\n",
              "      <td>negative</td>\n",
              "      <td>0</td>\n",
              "      <td>782</td>\n",
              "    </tr>\n",
              "  </tbody>\n",
              "</table>\n",
              "</div>\n",
              "      <button class=\"colab-df-convert\" onclick=\"convertToInteractive('df-850f9fd9-30f9-4433-853f-6b9a1cf24245')\"\n",
              "              title=\"Convert this dataframe to an interactive table.\"\n",
              "              style=\"display:none;\">\n",
              "        \n",
              "  <svg xmlns=\"http://www.w3.org/2000/svg\" height=\"24px\"viewBox=\"0 0 24 24\"\n",
              "       width=\"24px\">\n",
              "    <path d=\"M0 0h24v24H0V0z\" fill=\"none\"/>\n",
              "    <path d=\"M18.56 5.44l.94 2.06.94-2.06 2.06-.94-2.06-.94-.94-2.06-.94 2.06-2.06.94zm-11 1L8.5 8.5l.94-2.06 2.06-.94-2.06-.94L8.5 2.5l-.94 2.06-2.06.94zm10 10l.94 2.06.94-2.06 2.06-.94-2.06-.94-.94-2.06-.94 2.06-2.06.94z\"/><path d=\"M17.41 7.96l-1.37-1.37c-.4-.4-.92-.59-1.43-.59-.52 0-1.04.2-1.43.59L10.3 9.45l-7.72 7.72c-.78.78-.78 2.05 0 2.83L4 21.41c.39.39.9.59 1.41.59.51 0 1.02-.2 1.41-.59l7.78-7.78 2.81-2.81c.8-.78.8-2.07 0-2.86zM5.41 20L4 18.59l7.72-7.72 1.47 1.35L5.41 20z\"/>\n",
              "  </svg>\n",
              "      </button>\n",
              "      \n",
              "  <style>\n",
              "    .colab-df-container {\n",
              "      display:flex;\n",
              "      flex-wrap:wrap;\n",
              "      gap: 12px;\n",
              "    }\n",
              "\n",
              "    .colab-df-convert {\n",
              "      background-color: #E8F0FE;\n",
              "      border: none;\n",
              "      border-radius: 50%;\n",
              "      cursor: pointer;\n",
              "      display: none;\n",
              "      fill: #1967D2;\n",
              "      height: 32px;\n",
              "      padding: 0 0 0 0;\n",
              "      width: 32px;\n",
              "    }\n",
              "\n",
              "    .colab-df-convert:hover {\n",
              "      background-color: #E2EBFA;\n",
              "      box-shadow: 0px 1px 2px rgba(60, 64, 67, 0.3), 0px 1px 3px 1px rgba(60, 64, 67, 0.15);\n",
              "      fill: #174EA6;\n",
              "    }\n",
              "\n",
              "    [theme=dark] .colab-df-convert {\n",
              "      background-color: #3B4455;\n",
              "      fill: #D2E3FC;\n",
              "    }\n",
              "\n",
              "    [theme=dark] .colab-df-convert:hover {\n",
              "      background-color: #434B5C;\n",
              "      box-shadow: 0px 1px 3px 1px rgba(0, 0, 0, 0.15);\n",
              "      filter: drop-shadow(0px 1px 2px rgba(0, 0, 0, 0.3));\n",
              "      fill: #FFFFFF;\n",
              "    }\n",
              "  </style>\n",
              "\n",
              "      <script>\n",
              "        const buttonEl =\n",
              "          document.querySelector('#df-850f9fd9-30f9-4433-853f-6b9a1cf24245 button.colab-df-convert');\n",
              "        buttonEl.style.display =\n",
              "          google.colab.kernel.accessAllowed ? 'block' : 'none';\n",
              "\n",
              "        async function convertToInteractive(key) {\n",
              "          const element = document.querySelector('#df-850f9fd9-30f9-4433-853f-6b9a1cf24245');\n",
              "          const dataTable =\n",
              "            await google.colab.kernel.invokeFunction('convertToInteractive',\n",
              "                                                     [key], {});\n",
              "          if (!dataTable) return;\n",
              "\n",
              "          const docLinkHtml = 'Like what you see? Visit the ' +\n",
              "            '<a target=\"_blank\" href=https://colab.research.google.com/notebooks/data_table.ipynb>data table notebook</a>'\n",
              "            + ' to learn more about interactive tables.';\n",
              "          element.innerHTML = '';\n",
              "          dataTable['output_type'] = 'display_data';\n",
              "          await google.colab.output.renderOutput(dataTable, element);\n",
              "          const docLink = document.createElement('div');\n",
              "          docLink.innerHTML = docLinkHtml;\n",
              "          element.appendChild(docLink);\n",
              "        }\n",
              "      </script>\n",
              "    </div>\n",
              "  </div>\n",
              "  "
            ],
            "text/plain": [
              "                                                  review sentiment  target  \\\n",
              "8718   hard use word movie, since contains none itsel...  positive       1   \n",
              "14211  say necromaniac/schizophreniac 2 series is... ...  positive       1   \n",
              "48907  so-so thriller starring brad pitt juliette lew...  positive       1   \n",
              "29804  sat part che last night, back back brief bathr...  positive       1   \n",
              "38386  unfortunately one movie least make laugh unbel...  negative       0   \n",
              "\n",
              "       length  \n",
              "8718      241  \n",
              "14211    1271  \n",
              "48907     480  \n",
              "29804    2911  \n",
              "38386     782  "
            ]
          },
          "execution_count": 21,
          "metadata": {},
          "output_type": "execute_result"
        }
      ],
      "source": [
        "df.head()"
      ]
    },
    {
      "cell_type": "code",
      "execution_count": null,
      "metadata": {
        "id": "GIKnSwAclq_r"
      },
      "outputs": [],
      "source": [
        "df.to_csv('/content/drive/MyDrive/updated_dataset.csv')"
      ]
    },
    {
      "cell_type": "code",
      "execution_count": null,
      "metadata": {
        "id": "9cMADZ5GVRR3"
      },
      "outputs": [],
      "source": [
        "#CNN"
      ]
    },
    {
      "cell_type": "code",
      "execution_count": null,
      "metadata": {
        "id": "yxKEtuUhUnD_"
      },
      "outputs": [],
      "source": [
        "import pandas as pd\n",
        "import numpy as np\n",
        "import math\n",
        "import re\n",
        "import random\n",
        "import nltk\n",
        "from nltk.stem import WordNetLemmatizer\n",
        "from nltk.tokenize import WhitespaceTokenizer\n",
        "\n",
        "from keras.preprocessing.text import Tokenizer\n",
        "from keras.preprocessing.sequence import pad_sequences\n",
        "from keras.models import Sequential\n",
        "from keras.layers import Dense, Embedding, LSTM, SpatialDropout1D, SimpleRNN, Bidirectional\n",
        "from keras.layers import Dropout\n",
        "from keras.utils.np_utils import to_categorical\n",
        "from keras.utils.vis_utils import plot_model\n",
        "\n",
        "from sklearn.model_selection import train_test_split\n",
        "from sklearn.metrics import classification_report, confusion_matrix\n",
        "\n",
        "import matplotlib as mpl\n",
        "import matplotlib.pyplot as plt\n",
        "import seaborn as sb"
      ]
    },
    {
      "cell_type": "code",
      "execution_count": null,
      "metadata": {
        "colab": {
          "base_uri": "https://localhost:8080/"
        },
        "id": "F7H_c3tOUm9z",
        "outputId": "98c0293b-345c-46b7-fbca-4bcb04a5a6b3"
      },
      "outputs": [
        {
          "name": "stdout",
          "output_type": "stream",
          "text": [
            "Drive already mounted at /content/drive; to attempt to forcibly remount, call drive.mount(\"/content/drive\", force_remount=True).\n"
          ]
        }
      ],
      "source": [
        "from google.colab import drive\n",
        "drive.mount('/content/drive')"
      ]
    },
    {
      "cell_type": "code",
      "execution_count": null,
      "metadata": {
        "id": "m7PD9NUuUm0h"
      },
      "outputs": [],
      "source": [
        "# df = pd.read_csv('/content/drive/MyDrive/Soft Computing/Project/updated_dataset.csv')\n",
        "\n",
        "\n",
        "#without removing stop words and lemmatization\n",
        "df = pd.read_csv('/content/drive/MyDrive/dataset_v1.csv')"
      ]
    },
    {
      "cell_type": "code",
      "execution_count": null,
      "metadata": {
        "colab": {
          "base_uri": "https://localhost:8080/",
          "height": 206
        },
        "id": "3FFXoxh5Umql",
        "outputId": "f958a29b-49c7-44d5-c06f-1db4b1ceccd5"
      },
      "outputs": [
        {
          "data": {
            "text/html": [
              "\n",
              "  <div id=\"df-dcd332c6-6080-4d56-97ae-bef8f6101723\">\n",
              "    <div class=\"colab-df-container\">\n",
              "      <div>\n",
              "<style scoped>\n",
              "    .dataframe tbody tr th:only-of-type {\n",
              "        vertical-align: middle;\n",
              "    }\n",
              "\n",
              "    .dataframe tbody tr th {\n",
              "        vertical-align: top;\n",
              "    }\n",
              "\n",
              "    .dataframe thead th {\n",
              "        text-align: right;\n",
              "    }\n",
              "</style>\n",
              "<table border=\"1\" class=\"dataframe\">\n",
              "  <thead>\n",
              "    <tr style=\"text-align: right;\">\n",
              "      <th></th>\n",
              "      <th>Unnamed: 0</th>\n",
              "      <th>review</th>\n",
              "      <th>sentiment</th>\n",
              "      <th>target</th>\n",
              "    </tr>\n",
              "  </thead>\n",
              "  <tbody>\n",
              "    <tr>\n",
              "      <th>0</th>\n",
              "      <td>8718</td>\n",
              "      <td>It's hard to use words for this movie, since i...</td>\n",
              "      <td>positive</td>\n",
              "      <td>1</td>\n",
              "    </tr>\n",
              "    <tr>\n",
              "      <th>1</th>\n",
              "      <td>14211</td>\n",
              "      <td>All I can say about the Necromaniac/Schizophre...</td>\n",
              "      <td>positive</td>\n",
              "      <td>1</td>\n",
              "    </tr>\n",
              "    <tr>\n",
              "      <th>2</th>\n",
              "      <td>48907</td>\n",
              "      <td>So-so thriller starring Brad Pitt and Juliette...</td>\n",
              "      <td>positive</td>\n",
              "      <td>1</td>\n",
              "    </tr>\n",
              "    <tr>\n",
              "      <th>3</th>\n",
              "      <td>29804</td>\n",
              "      <td>I sat through both parts of Che last night, ba...</td>\n",
              "      <td>positive</td>\n",
              "      <td>1</td>\n",
              "    </tr>\n",
              "    <tr>\n",
              "      <th>4</th>\n",
              "      <td>38386</td>\n",
              "      <td>Unfortunately this is not one of those movies ...</td>\n",
              "      <td>negative</td>\n",
              "      <td>0</td>\n",
              "    </tr>\n",
              "  </tbody>\n",
              "</table>\n",
              "</div>\n",
              "      <button class=\"colab-df-convert\" onclick=\"convertToInteractive('df-dcd332c6-6080-4d56-97ae-bef8f6101723')\"\n",
              "              title=\"Convert this dataframe to an interactive table.\"\n",
              "              style=\"display:none;\">\n",
              "        \n",
              "  <svg xmlns=\"http://www.w3.org/2000/svg\" height=\"24px\"viewBox=\"0 0 24 24\"\n",
              "       width=\"24px\">\n",
              "    <path d=\"M0 0h24v24H0V0z\" fill=\"none\"/>\n",
              "    <path d=\"M18.56 5.44l.94 2.06.94-2.06 2.06-.94-2.06-.94-.94-2.06-.94 2.06-2.06.94zm-11 1L8.5 8.5l.94-2.06 2.06-.94-2.06-.94L8.5 2.5l-.94 2.06-2.06.94zm10 10l.94 2.06.94-2.06 2.06-.94-2.06-.94-.94-2.06-.94 2.06-2.06.94z\"/><path d=\"M17.41 7.96l-1.37-1.37c-.4-.4-.92-.59-1.43-.59-.52 0-1.04.2-1.43.59L10.3 9.45l-7.72 7.72c-.78.78-.78 2.05 0 2.83L4 21.41c.39.39.9.59 1.41.59.51 0 1.02-.2 1.41-.59l7.78-7.78 2.81-2.81c.8-.78.8-2.07 0-2.86zM5.41 20L4 18.59l7.72-7.72 1.47 1.35L5.41 20z\"/>\n",
              "  </svg>\n",
              "      </button>\n",
              "      \n",
              "  <style>\n",
              "    .colab-df-container {\n",
              "      display:flex;\n",
              "      flex-wrap:wrap;\n",
              "      gap: 12px;\n",
              "    }\n",
              "\n",
              "    .colab-df-convert {\n",
              "      background-color: #E8F0FE;\n",
              "      border: none;\n",
              "      border-radius: 50%;\n",
              "      cursor: pointer;\n",
              "      display: none;\n",
              "      fill: #1967D2;\n",
              "      height: 32px;\n",
              "      padding: 0 0 0 0;\n",
              "      width: 32px;\n",
              "    }\n",
              "\n",
              "    .colab-df-convert:hover {\n",
              "      background-color: #E2EBFA;\n",
              "      box-shadow: 0px 1px 2px rgba(60, 64, 67, 0.3), 0px 1px 3px 1px rgba(60, 64, 67, 0.15);\n",
              "      fill: #174EA6;\n",
              "    }\n",
              "\n",
              "    [theme=dark] .colab-df-convert {\n",
              "      background-color: #3B4455;\n",
              "      fill: #D2E3FC;\n",
              "    }\n",
              "\n",
              "    [theme=dark] .colab-df-convert:hover {\n",
              "      background-color: #434B5C;\n",
              "      box-shadow: 0px 1px 3px 1px rgba(0, 0, 0, 0.15);\n",
              "      filter: drop-shadow(0px 1px 2px rgba(0, 0, 0, 0.3));\n",
              "      fill: #FFFFFF;\n",
              "    }\n",
              "  </style>\n",
              "\n",
              "      <script>\n",
              "        const buttonEl =\n",
              "          document.querySelector('#df-dcd332c6-6080-4d56-97ae-bef8f6101723 button.colab-df-convert');\n",
              "        buttonEl.style.display =\n",
              "          google.colab.kernel.accessAllowed ? 'block' : 'none';\n",
              "\n",
              "        async function convertToInteractive(key) {\n",
              "          const element = document.querySelector('#df-dcd332c6-6080-4d56-97ae-bef8f6101723');\n",
              "          const dataTable =\n",
              "            await google.colab.kernel.invokeFunction('convertToInteractive',\n",
              "                                                     [key], {});\n",
              "          if (!dataTable) return;\n",
              "\n",
              "          const docLinkHtml = 'Like what you see? Visit the ' +\n",
              "            '<a target=\"_blank\" href=https://colab.research.google.com/notebooks/data_table.ipynb>data table notebook</a>'\n",
              "            + ' to learn more about interactive tables.';\n",
              "          element.innerHTML = '';\n",
              "          dataTable['output_type'] = 'display_data';\n",
              "          await google.colab.output.renderOutput(dataTable, element);\n",
              "          const docLink = document.createElement('div');\n",
              "          docLink.innerHTML = docLinkHtml;\n",
              "          element.appendChild(docLink);\n",
              "        }\n",
              "      </script>\n",
              "    </div>\n",
              "  </div>\n",
              "  "
            ],
            "text/plain": [
              "   Unnamed: 0                                             review sentiment  \\\n",
              "0        8718  It's hard to use words for this movie, since i...  positive   \n",
              "1       14211  All I can say about the Necromaniac/Schizophre...  positive   \n",
              "2       48907  So-so thriller starring Brad Pitt and Juliette...  positive   \n",
              "3       29804  I sat through both parts of Che last night, ba...  positive   \n",
              "4       38386  Unfortunately this is not one of those movies ...  negative   \n",
              "\n",
              "   target  \n",
              "0       1  \n",
              "1       1  \n",
              "2       1  \n",
              "3       1  \n",
              "4       0  "
            ]
          },
          "execution_count": 26,
          "metadata": {},
          "output_type": "execute_result"
        }
      ],
      "source": [
        "df.head()"
      ]
    },
    {
      "cell_type": "code",
      "execution_count": null,
      "metadata": {
        "id": "6M0hkLnYVzAr"
      },
      "outputs": [],
      "source": [
        "#Vectorization"
      ]
    },
    {
      "cell_type": "code",
      "execution_count": null,
      "metadata": {
        "colab": {
          "base_uri": "https://localhost:8080/"
        },
        "id": "DOMNV4-SUmch",
        "outputId": "d6489f16-7ef5-4ed8-a93d-e01a088bb99c"
      },
      "outputs": [
        {
          "name": "stdout",
          "output_type": "stream",
          "text": [
            "found  124335  unique tokens\n",
            "Shape of data tensor: (35000, 4000)\n",
            "(35000, 4000) (35000, 2)\n",
            "(15000, 4000) (15000, 2)\n"
          ]
        }
      ],
      "source": [
        "dataset = df\n",
        "unique_label = np.unique(df[\"target\"])\n",
        "num_classes = len(unique_label)\n",
        "\n",
        "from sklearn.model_selection import train_test_split\n",
        "X_train, X_test, y_train, y_test = train_test_split(dataset['review'].values, pd.get_dummies(dataset['target']).values, test_size=0.30)\n",
        "\n",
        "MAX_NB_WORDS = 124335\n",
        "MAX_SEQUENCE_LENGTH = 4000\n",
        "EMBEDDING_DIM = 250\n",
        "\n",
        "tokenizer = Tokenizer(num_words=MAX_NB_WORDS)\n",
        "tokenizer.fit_on_texts(X_train)\n",
        "tokenizer.fit_on_texts(X_test)\n",
        "word_index = tokenizer.word_index\n",
        "print(\"found \", len(word_index), \" unique tokens\")\n",
        "\n",
        "train_seq = tokenizer.texts_to_sequences(X_train)\n",
        "test_seq = tokenizer.texts_to_sequences(X_test)\n",
        "pad_train = pad_sequences(train_seq, maxlen=MAX_SEQUENCE_LENGTH)\n",
        "pad_test = pad_sequences(test_seq, maxlen=MAX_SEQUENCE_LENGTH)\n",
        "print('Shape of data tensor:', pad_train.shape)\n",
        "\n",
        "print(pad_train.shape,y_train.shape)\n",
        "print(pad_test.shape,y_test.shape)"
      ]
    },
    {
      "cell_type": "code",
      "execution_count": null,
      "metadata": {
        "colab": {
          "base_uri": "https://localhost:8080/"
        },
        "id": "iuA3BCdGUmT6",
        "outputId": "caff4f40-2f0b-4774-8f23-dbb53b625ccc"
      },
      "outputs": [
        {
          "name": "stdout",
          "output_type": "stream",
          "text": [
            "Model: \"sequential_1\"\n",
            "_________________________________________________________________\n",
            " Layer (type)                Output Shape              Param #   \n",
            "=================================================================\n",
            " embedding (Embedding)       (None, 4000, 250)         31083750  \n",
            "                                                                 \n",
            " conv1d (Conv1D)             (None, 3998, 50)          37550     \n",
            "                                                                 \n",
            " max_pooling1d (MaxPooling1D  (None, 1999, 50)         0         \n",
            " )                                                               \n",
            "                                                                 \n",
            " conv1d_1 (Conv1D)           (None, 1997, 40)          6040      \n",
            "                                                                 \n",
            " max_pooling1d_1 (MaxPooling  (None, 998, 40)          0         \n",
            " 1D)                                                             \n",
            "                                                                 \n",
            " conv1d_2 (Conv1D)           (None, 996, 30)           3630      \n",
            "                                                                 \n",
            " max_pooling1d_2 (MaxPooling  (None, 498, 30)          0         \n",
            " 1D)                                                             \n",
            "                                                                 \n",
            " flatten (Flatten)           (None, 14940)             0         \n",
            "                                                                 \n",
            " dense (Dense)               (None, 10)                149410    \n",
            "                                                                 \n",
            " dense_1 (Dense)             (None, 2)                 22        \n",
            "                                                                 \n",
            "=================================================================\n",
            "Total params: 31,280,402\n",
            "Trainable params: 31,280,402\n",
            "Non-trainable params: 0\n",
            "_________________________________________________________________\n"
          ]
        }
      ],
      "source": [
        "from keras.models import Sequential\n",
        "from keras.layers import Dense\n",
        "from keras.layers import Flatten\n",
        "from keras.layers import Embedding\n",
        "from keras.layers.convolutional import Conv1D\n",
        "from keras.layers.convolutional import MaxPooling1D\n",
        "\n",
        "# define model\n",
        "model = Sequential()\n",
        "\n",
        "model.add(Embedding(MAX_NB_WORDS, EMBEDDING_DIM, input_length=pad_train.shape[1]))\n",
        "\n",
        "model.add(Conv1D(filters = 50, kernel_size = 3))\n",
        "model.add(MaxPooling1D(pool_size = 2))\n",
        "\n",
        "model.add(Conv1D(filters = 40, kernel_size = 3))\n",
        "model.add(MaxPooling1D(pool_size = 2))\n",
        "\n",
        "model.add(Conv1D(filters=30, kernel_size=3))\n",
        "model.add(MaxPooling1D(pool_size=2))\n",
        "\n",
        "model.add(Flatten())\n",
        "\n",
        "model.add(Dense(10, activation='tanh'))\n",
        "model.add(Dense(2, activation='sigmoid'))\n",
        "\n",
        "\n",
        "model.compile(loss='binary_crossentropy', optimizer='adam', metrics=['accuracy']) \n",
        "model.summary()\n",
        "\n",
        "epochs = 50\n",
        "batch_size = 128"
      ]
    },
    {
      "cell_type": "code",
      "execution_count": null,
      "metadata": {
        "colab": {
          "base_uri": "https://localhost:8080/"
        },
        "id": "vtRymyp8VjtQ",
        "outputId": "5d5f1b49-a052-4dc3-9ac5-5f8689b2f024"
      },
      "outputs": [
        {
          "name": "stdout",
          "output_type": "stream",
          "text": [
            "Epoch 1/50\n",
            "274/274 [==============================] - 86s 269ms/step - loss: 0.4141 - accuracy: 0.7980 - val_loss: 0.2701 - val_accuracy: 0.8935\n",
            "Epoch 2/50\n",
            "274/274 [==============================] - 74s 269ms/step - loss: 0.1561 - accuracy: 0.9487 - val_loss: 0.2819 - val_accuracy: 0.8901\n",
            "Epoch 3/50\n",
            "274/274 [==============================] - 71s 259ms/step - loss: 0.0686 - accuracy: 0.9816 - val_loss: 0.3289 - val_accuracy: 0.8915\n",
            "Epoch 4/50\n",
            "274/274 [==============================] - 71s 259ms/step - loss: 0.0309 - accuracy: 0.9934 - val_loss: 0.4097 - val_accuracy: 0.8830\n",
            "Epoch 5/50\n",
            "274/274 [==============================] - 71s 259ms/step - loss: 0.0202 - accuracy: 0.9962 - val_loss: 0.4364 - val_accuracy: 0.8875\n",
            "Epoch 6/50\n",
            "274/274 [==============================] - 71s 259ms/step - loss: 0.0166 - accuracy: 0.9962 - val_loss: 0.4446 - val_accuracy: 0.8889\n",
            "Epoch 7/50\n",
            "274/274 [==============================] - 71s 258ms/step - loss: 0.0168 - accuracy: 0.9960 - val_loss: 0.4551 - val_accuracy: 0.8833\n",
            "Epoch 8/50\n",
            "274/274 [==============================] - 71s 258ms/step - loss: 0.0166 - accuracy: 0.9959 - val_loss: 0.4888 - val_accuracy: 0.8845\n",
            "Epoch 9/50\n",
            "274/274 [==============================] - 71s 258ms/step - loss: 0.0120 - accuracy: 0.9971 - val_loss: 0.4462 - val_accuracy: 0.8823\n",
            "Epoch 10/50\n",
            "274/274 [==============================] - 71s 258ms/step - loss: 0.0088 - accuracy: 0.9980 - val_loss: 0.5419 - val_accuracy: 0.8849\n",
            "Epoch 11/50\n",
            "274/274 [==============================] - 73s 268ms/step - loss: 0.0079 - accuracy: 0.9984 - val_loss: 0.5956 - val_accuracy: 0.8799\n",
            "Epoch 12/50\n",
            "274/274 [==============================] - 71s 258ms/step - loss: 0.0113 - accuracy: 0.9971 - val_loss: 0.5668 - val_accuracy: 0.8818\n",
            "Epoch 13/50\n",
            "274/274 [==============================] - 70s 257ms/step - loss: 0.0223 - accuracy: 0.9937 - val_loss: 0.4678 - val_accuracy: 0.8841\n",
            "Epoch 14/50\n",
            "274/274 [==============================] - 70s 257ms/step - loss: 0.0105 - accuracy: 0.9974 - val_loss: 0.6178 - val_accuracy: 0.8816\n",
            "Epoch 15/50\n",
            "274/274 [==============================] - 70s 256ms/step - loss: 0.0074 - accuracy: 0.9984 - val_loss: 0.5165 - val_accuracy: 0.8770\n",
            "Epoch 16/50\n",
            "274/274 [==============================] - 70s 256ms/step - loss: 0.0048 - accuracy: 0.9991 - val_loss: 0.6868 - val_accuracy: 0.8837\n",
            "Epoch 17/50\n",
            "274/274 [==============================] - 70s 256ms/step - loss: 0.0043 - accuracy: 0.9993 - val_loss: 0.7132 - val_accuracy: 0.8803\n",
            "Epoch 18/50\n",
            "274/274 [==============================] - 70s 256ms/step - loss: 0.0074 - accuracy: 0.9983 - val_loss: 0.5639 - val_accuracy: 0.8793\n",
            "Epoch 19/50\n",
            "274/274 [==============================] - 70s 256ms/step - loss: 0.0076 - accuracy: 0.9982 - val_loss: 0.7139 - val_accuracy: 0.8752\n",
            "Epoch 20/50\n",
            "274/274 [==============================] - 70s 257ms/step - loss: 0.0218 - accuracy: 0.9945 - val_loss: 0.4934 - val_accuracy: 0.8777\n",
            "Epoch 21/50\n",
            "274/274 [==============================] - 71s 259ms/step - loss: 0.0113 - accuracy: 0.9971 - val_loss: 0.6253 - val_accuracy: 0.8667\n",
            "Epoch 22/50\n",
            "274/274 [==============================] - 70s 257ms/step - loss: 0.0064 - accuracy: 0.9987 - val_loss: 0.5249 - val_accuracy: 0.8813\n",
            "Epoch 23/50\n",
            "274/274 [==============================] - 72s 263ms/step - loss: 0.0047 - accuracy: 0.9993 - val_loss: 0.6078 - val_accuracy: 0.8797\n",
            "Epoch 24/50\n",
            "274/274 [==============================] - 74s 270ms/step - loss: 0.0132 - accuracy: 0.9963 - val_loss: 0.6586 - val_accuracy: 0.8821\n",
            "Epoch 25/50\n",
            "274/274 [==============================] - 74s 270ms/step - loss: 0.0070 - accuracy: 0.9986 - val_loss: 0.7309 - val_accuracy: 0.8746\n",
            "Epoch 26/50\n",
            "274/274 [==============================] - 71s 257ms/step - loss: 0.0059 - accuracy: 0.9988 - val_loss: 0.7101 - val_accuracy: 0.8810\n",
            "Epoch 27/50\n",
            "274/274 [==============================] - 73s 267ms/step - loss: 0.0032 - accuracy: 0.9997 - val_loss: 0.7463 - val_accuracy: 0.8817\n",
            "Epoch 28/50\n",
            "274/274 [==============================] - 70s 256ms/step - loss: 0.0031 - accuracy: 0.9997 - val_loss: 0.7540 - val_accuracy: 0.8808\n",
            "Epoch 29/50\n",
            "274/274 [==============================] - 70s 256ms/step - loss: 0.0031 - accuracy: 0.9997 - val_loss: 0.7534 - val_accuracy: 0.8817\n",
            "Epoch 30/50\n",
            "274/274 [==============================] - 70s 256ms/step - loss: 0.0031 - accuracy: 0.9997 - val_loss: 0.7534 - val_accuracy: 0.8817\n",
            "Epoch 31/50\n",
            "274/274 [==============================] - 73s 265ms/step - loss: 0.0031 - accuracy: 0.9997 - val_loss: 0.7528 - val_accuracy: 0.8820\n",
            "Epoch 32/50\n",
            "274/274 [==============================] - 70s 256ms/step - loss: 0.0031 - accuracy: 0.9997 - val_loss: 0.7532 - val_accuracy: 0.8809\n",
            "Epoch 33/50\n",
            "274/274 [==============================] - 70s 256ms/step - loss: 0.0031 - accuracy: 0.9997 - val_loss: 0.7493 - val_accuracy: 0.8819\n",
            "Epoch 34/50\n",
            "274/274 [==============================] - 70s 255ms/step - loss: 0.0031 - accuracy: 0.9997 - val_loss: 0.7507 - val_accuracy: 0.8819\n",
            "Epoch 35/50\n",
            "274/274 [==============================] - 70s 255ms/step - loss: 0.0031 - accuracy: 0.9997 - val_loss: 0.7493 - val_accuracy: 0.8811\n",
            "Epoch 36/50\n",
            "274/274 [==============================] - 70s 255ms/step - loss: 0.0031 - accuracy: 0.9997 - val_loss: 0.7509 - val_accuracy: 0.8818\n",
            "Epoch 37/50\n",
            "274/274 [==============================] - 70s 255ms/step - loss: 0.0031 - accuracy: 0.9997 - val_loss: 0.7485 - val_accuracy: 0.8814\n",
            "Epoch 38/50\n",
            "274/274 [==============================] - 70s 255ms/step - loss: 0.0031 - accuracy: 0.9997 - val_loss: 0.7529 - val_accuracy: 0.8815\n",
            "Epoch 39/50\n",
            "274/274 [==============================] - 70s 255ms/step - loss: 0.0031 - accuracy: 0.9997 - val_loss: 0.7554 - val_accuracy: 0.8817\n",
            "Epoch 40/50\n",
            "274/274 [==============================] - 73s 266ms/step - loss: 0.0031 - accuracy: 0.9997 - val_loss: 0.7558 - val_accuracy: 0.8819\n",
            "Epoch 41/50\n",
            "274/274 [==============================] - 70s 255ms/step - loss: 0.0031 - accuracy: 0.9997 - val_loss: 0.7537 - val_accuracy: 0.8816\n",
            "Epoch 42/50\n",
            "274/274 [==============================] - 73s 265ms/step - loss: 0.0031 - accuracy: 0.9997 - val_loss: 0.7551 - val_accuracy: 0.8819\n",
            "Epoch 43/50\n",
            "274/274 [==============================] - 70s 256ms/step - loss: 0.0031 - accuracy: 0.9997 - val_loss: 0.7570 - val_accuracy: 0.8819\n",
            "Epoch 44/50\n",
            "274/274 [==============================] - 70s 255ms/step - loss: 0.0031 - accuracy: 0.9997 - val_loss: 0.7585 - val_accuracy: 0.8816\n",
            "Epoch 45/50\n",
            "274/274 [==============================] - 73s 265ms/step - loss: 0.0031 - accuracy: 0.9997 - val_loss: 0.7584 - val_accuracy: 0.8820\n",
            "Epoch 46/50\n",
            "274/274 [==============================] - 70s 255ms/step - loss: 0.0031 - accuracy: 0.9997 - val_loss: 0.7625 - val_accuracy: 0.8820\n",
            "Epoch 47/50\n",
            "274/274 [==============================] - 70s 255ms/step - loss: 0.0031 - accuracy: 0.9997 - val_loss: 0.7663 - val_accuracy: 0.8820\n",
            "Epoch 48/50\n",
            "274/274 [==============================] - 70s 255ms/step - loss: 0.0031 - accuracy: 0.9997 - val_loss: 0.7644 - val_accuracy: 0.8819\n",
            "Epoch 49/50\n",
            "274/274 [==============================] - 73s 265ms/step - loss: 0.0031 - accuracy: 0.9997 - val_loss: 0.7616 - val_accuracy: 0.8819\n",
            "Epoch 50/50\n",
            "274/274 [==============================] - 70s 255ms/step - loss: 0.0031 - accuracy: 0.9997 - val_loss: 0.7640 - val_accuracy: 0.8815\n"
          ]
        }
      ],
      "source": [
        "history = model.fit(pad_train, y_train, epochs=epochs, batch_size=batch_size,validation_data=(pad_test, y_test))"
      ]
    },
    {
      "cell_type": "code",
      "execution_count": null,
      "metadata": {
        "colab": {
          "base_uri": "https://localhost:8080/"
        },
        "id": "veR8bOx7Vjg7",
        "outputId": "15e69259-9f8b-4272-9716-11c13e0d5b10"
      },
      "outputs": [
        {
          "name": "stdout",
          "output_type": "stream",
          "text": [
            "469/469 [==============================] - 11s 23ms/step - loss: 0.7640 - accuracy: 0.8815\n",
            "Accuracy is :  88.14666867256165\n"
          ]
        }
      ],
      "source": [
        "evaluation = model.evaluate(pad_test,y_test)\n",
        "accuracy = evaluation[1] * 100\n",
        "print(\"Accuracy is : \", accuracy)"
      ]
    },
    {
      "cell_type": "code",
      "execution_count": null,
      "metadata": {
        "colab": {
          "base_uri": "https://localhost:8080/",
          "height": 295
        },
        "id": "jR9mKWxiVjZJ",
        "outputId": "13e8127f-4bd9-44a7-eff8-a53eec1e077b"
      },
      "outputs": [
        {
          "data": {
            "image/png": "[encoded data removed]",
            "text/plain": [
              "<Figure size 432x288 with 1 Axes>"
            ]
          },
          "metadata": {},
          "output_type": "display_data"
        }
      ],
      "source": [
        "from matplotlib import pyplot\n",
        "\n",
        "pyplot.plot(history.history['loss'], color='r')\n",
        "# pyplot.plot(history.history['val_loss'], color='b')\n",
        "pyplot.title('loss curve')\n",
        "pyplot.ylabel('loss')\n",
        "pyplot.xlabel('epoch')\n",
        "pyplot.legend(['loss', 'val_loss'], loc='upper right')\n",
        "pyplot.show()"
      ]
    },
    {
      "cell_type": "code",
      "execution_count": null,
      "metadata": {
        "colab": {
          "base_uri": "https://localhost:8080/",
          "height": 295
        },
        "id": "-e45TJHkVotu",
        "outputId": "c4a6a393-ecdd-485d-e886-286933d2182f"
      },
      "outputs": [
        {
          "data": {
            "image/png": "[encoded data removed]",
            "text/plain": [
              "<Figure size 432x288 with 1 Axes>"
            ]
          },
          "metadata": {},
          "output_type": "display_data"
        }
      ],
      "source": [
        "from matplotlib import pyplot\n",
        "\n",
        "pyplot.plot(history.history['accuracy'], color='b')\n",
        "# pyplot.plot(history.history['val_accuracy'], color='b')\n",
        "pyplot.title('accuracy curve')\n",
        "pyplot.ylabel('accuracy')\n",
        "pyplot.xlabel('epoch')\n",
        "pyplot.legend(['accuracy', 'val_accuracy'], loc='upper right')\n",
        "pyplot.show()"
      ]
    },
    {
      "cell_type": "code",
      "execution_count": null,
      "metadata": {
        "colab": {
          "base_uri": "https://localhost:8080/",
          "height": 295
        },
        "id": "GX1NPLbpVooa",
        "outputId": "f0186b5c-2b7c-40b3-e364-d3599c0bac49"
      },
      "outputs": [
        {
          "data": {
            "image/png": "[encoded data removed]",
            "text/plain": [
              "<Figure size 432x288 with 2 Axes>"
            ]
          },
          "metadata": {},
          "output_type": "display_data"
        }
      ],
      "source": [
        "y_pred = model.predict(pad_test)\n",
        "\n",
        "new_y_pred = np.argmax(y_pred, axis=1)\n",
        "new_y_test = np.argmax(y_test, axis=1)\n",
        "\n",
        "conf_arr = np.zeros((num_classes, num_classes))\n",
        "\n",
        "for i in range(len(new_y_pred)):\n",
        "        conf_arr[new_y_pred[i]][new_y_test[i]] += 1\n",
        "\n",
        "df_cm = pd.DataFrame(conf_arr, index = unique_label, columns = unique_label)\n",
        "\n",
        "\n",
        "\n",
        "fig = plt.figure()\n",
        "plt.clf()\n",
        "\n",
        "ax = fig.add_subplot()\n",
        "ax.set_aspect(1)\n",
        "\n",
        "cmap = sb.cubehelix_palette(light=1, as_cmap=True)\n",
        "res = sb.heatmap(df_cm, annot=True, vmin=0.0, vmax=np.max(conf_arr), fmt='.2f', cmap=cmap)\n",
        "\n",
        "plt.title('Confusion Matrix')\n",
        "plt.ylabel('Predicted')\n",
        "plt.xlabel('True')\n",
        "plt.show()"
      ]
    },
    {
      "cell_type": "code",
      "execution_count": null,
      "metadata": {
        "colab": {
          "base_uri": "https://localhost:8080/"
        },
        "id": "-NG00H7VV3I4",
        "outputId": "a755834f-ca58-4347-ef28-29efcb79875b"
      },
      "outputs": [
        {
          "name": "stdout",
          "output_type": "stream",
          "text": [
            "              precision    recall  f1-score   support\n",
            "\n",
            "           0       0.89      0.87      0.88      7544\n",
            "           1       0.87      0.89      0.88      7456\n",
            "\n",
            "    accuracy                           0.88     15000\n",
            "   macro avg       0.88      0.88      0.88     15000\n",
            "weighted avg       0.88      0.88      0.88     15000\n",
            "\n"
          ]
        }
      ],
      "source": [
        "print(classification_report(new_y_test, new_y_pred))"
      ]
    },
    {
      "cell_type": "code",
      "execution_count": null,
      "metadata": {
        "colab": {
          "base_uri": "https://localhost:8080/"
        },
        "id": "Y4FMlgpKV3CN",
        "outputId": "97022163-8ec1-4f9f-a4bd-953d3b4b5f4f"
      },
      "outputs": [
        {
          "name": "stdout",
          "output_type": "stream",
          "text": [
            "Pricision =  87.24744161637365\n",
            "F1_score =  88.2079851439183\n",
            "Recall =  89.18991416309014\n"
          ]
        }
      ],
      "source": [
        "from sklearn.metrics import f1_score, precision_score, recall_score\n",
        "\n",
        "precision =   precision_score(new_y_test, new_y_pred) * 100\n",
        "recall =  recall_score(new_y_test, new_y_pred) * 100\n",
        "f1_score =  f1_score(new_y_test, new_y_pred) * 100\n",
        "print('Pricision = ',precision)\n",
        "print('F1_score = ',f1_score)\n",
        "print('Recall = ',recall)"
      ]
    },
    {
      "cell_type": "code",
      "execution_count": null,
      "metadata": {
        "colab": {
          "base_uri": "https://localhost:8080/"
        },
        "id": "Zxk-4BtJV74E",
        "outputId": "7f72af25-faee-4d73-c3e0-66b1bce8612e"
      },
      "outputs": [
        {
          "name": "stdout",
          "output_type": "stream",
          "text": [
            "INFO:tensorflow:Assets written to: /content/drive/MyDrive/saved_info/CNN/v5/assets\n"
          ]
        }
      ],
      "source": [
        "model.save('/content/drive/MyDrive/saved_info/CNN/v5')"
      ]
    },
    {
      "cell_type": "code",
      "execution_count": null,
      "metadata": {
        "id": "dXZjJtvVnVeM"
      },
      "outputs": [],
      "source": [
        "import keras\n",
        "loaded_model = keras.models.load_model('/content/drive/MyDrive/saved_info/CNN/v5')"
      ]
    },
    {
      "cell_type": "code",
      "execution_count": null,
      "metadata": {
        "colab": {
          "base_uri": "https://localhost:8080/"
        },
        "id": "x758go82nVbN",
        "outputId": "7f04ace1-a083-4aff-ac0b-edcacd8183dc"
      },
      "outputs": [
        {
          "name": "stdout",
          "output_type": "stream",
          "text": [
            "469/469 [==============================] - 11s 24ms/step - loss: 0.7640 - accuracy: 0.8815\n",
            "Accuracy is :  88.14666867256165\n"
          ]
        }
      ],
      "source": [
        "evaluation = loaded_model.evaluate(pad_test,y_test)\n",
        "accuracy = evaluation[1] * 100\n",
        "print(\"Accuracy is : \", accuracy)"
      ]
    },
    {
      "cell_type": "code",
      "execution_count": null,
      "metadata": {
        "id": "sLL3jYxOnVYn"
      },
      "outputs": [],
      "source": [
        "np.save('/content/drive/MyDrive/saved_info/CNN/v5/history.npy',history.history)"
      ]
    },
    {
      "cell_type": "code",
      "execution_count": null,
      "metadata": {
        "id": "NxLJmnQYnVVq"
      },
      "outputs": [],
      "source": [
        "h=np.load('/content/drive/MyDrive/saved_info/CNN/v5/history.npy',allow_pickle='TRUE').item()"
      ]
    },
    {
      "cell_type": "code",
      "execution_count": null,
      "metadata": {
        "colab": {
          "base_uri": "https://localhost:8080/",
          "height": 295
        },
        "id": "9ItfHNGenVR_",
        "outputId": "64096d4c-51ed-47be-fe12-8cb3bf3c78fd"
      },
      "outputs": [
        {
          "data": {
            "image/png": "[encoded data removed]",
            "text/plain": [
              "<Figure size 432x288 with 1 Axes>"
            ]
          },
          "metadata": {},
          "output_type": "display_data"
        }
      ],
      "source": [
        "from matplotlib import pyplot\n",
        "\n",
        "pyplot.plot(h['accuracy'], color='b')\n",
        "# pyplot.plot(history.history['val_accuracy'], color='b')\n",
        "pyplot.title('accuracy curve')\n",
        "pyplot.ylabel('accuracy')\n",
        "pyplot.xlabel('epoch')\n",
        "pyplot.legend(['accuracy', 'val_accuracy'], loc='upper right')\n",
        "pyplot.show()"
      ]
    },
    {
      "cell_type": "code",
      "execution_count": null,
      "metadata": {
        "id": "LK8AEdSn0a4c"
      },
      "outputs": [],
      "source": [
        "#RNN"
      ]
    },
    {
      "cell_type": "code",
      "execution_count": null,
      "metadata": {
        "id": "4dwebd-s0djp"
      },
      "outputs": [],
      "source": [
        "import pandas as pd\n",
        "import numpy as np\n",
        "import math\n",
        "import re\n",
        "import random\n",
        "import nltk\n",
        "from nltk.stem import WordNetLemmatizer\n",
        "from nltk.tokenize import WhitespaceTokenizer\n",
        "\n",
        "from keras.preprocessing.text import Tokenizer\n",
        "from keras.preprocessing.sequence import pad_sequences\n",
        "from keras.models import Sequential\n",
        "from keras.layers import Dense, Embedding, LSTM, SpatialDropout1D, SimpleRNN, Bidirectional\n",
        "from keras.layers import Dropout\n",
        "from keras.utils.np_utils import to_categorical\n",
        "from keras.utils.vis_utils import plot_model\n",
        "\n",
        "from sklearn.model_selection import train_test_split\n",
        "from sklearn.metrics import f1_score, precision_score, recall_score\n",
        "from sklearn.metrics import classification_report, confusion_matrix\n",
        "\n",
        "import matplotlib as mpl\n",
        "import matplotlib.pyplot as plt\n",
        "import seaborn as sb"
      ]
    },
    {
      "cell_type": "code",
      "execution_count": null,
      "metadata": {
        "id": "Nu3VdiXo0deY"
      },
      "outputs": [],
      "source": [
        "df = pd.read_csv('/content/drive/MyDrive/updated_dataset.csv')"
      ]
    },
    {
      "cell_type": "code",
      "execution_count": null,
      "metadata": {
        "colab": {
          "base_uri": "https://localhost:8080/",
          "height": 206
        },
        "id": "qzkmIjof0dbm",
        "outputId": "e4f12b50-3aa6-4dde-b6cd-b9697860fd12"
      },
      "outputs": [
        {
          "data": {
            "text/html": [
              "\n",
              "  <div id=\"df-f6704bc0-5767-4cfc-a8a9-90f9d7c29ea3\">\n",
              "    <div class=\"colab-df-container\">\n",
              "      <div>\n",
              "<style scoped>\n",
              "    .dataframe tbody tr th:only-of-type {\n",
              "        vertical-align: middle;\n",
              "    }\n",
              "\n",
              "    .dataframe tbody tr th {\n",
              "        vertical-align: top;\n",
              "    }\n",
              "\n",
              "    .dataframe thead th {\n",
              "        text-align: right;\n",
              "    }\n",
              "</style>\n",
              "<table border=\"1\" class=\"dataframe\">\n",
              "  <thead>\n",
              "    <tr style=\"text-align: right;\">\n",
              "      <th></th>\n",
              "      <th>Unnamed: 0</th>\n",
              "      <th>review</th>\n",
              "      <th>sentiment</th>\n",
              "      <th>target</th>\n",
              "      <th>length</th>\n",
              "    </tr>\n",
              "  </thead>\n",
              "  <tbody>\n",
              "    <tr>\n",
              "      <th>0</th>\n",
              "      <td>8718</td>\n",
              "      <td>hard use word movie, since contains none itsel...</td>\n",
              "      <td>positive</td>\n",
              "      <td>1</td>\n",
              "      <td>241</td>\n",
              "    </tr>\n",
              "    <tr>\n",
              "      <th>1</th>\n",
              "      <td>14211</td>\n",
              "      <td>say necromaniac/schizophreniac 2 series is... ...</td>\n",
              "      <td>positive</td>\n",
              "      <td>1</td>\n",
              "      <td>1271</td>\n",
              "    </tr>\n",
              "    <tr>\n",
              "      <th>2</th>\n",
              "      <td>48907</td>\n",
              "      <td>so-so thriller starring brad pitt juliette lew...</td>\n",
              "      <td>positive</td>\n",
              "      <td>1</td>\n",
              "      <td>480</td>\n",
              "    </tr>\n",
              "    <tr>\n",
              "      <th>3</th>\n",
              "      <td>29804</td>\n",
              "      <td>sat part che last night, back back brief bathr...</td>\n",
              "      <td>positive</td>\n",
              "      <td>1</td>\n",
              "      <td>2911</td>\n",
              "    </tr>\n",
              "    <tr>\n",
              "      <th>4</th>\n",
              "      <td>38386</td>\n",
              "      <td>unfortunately one movie least make laugh unbel...</td>\n",
              "      <td>negative</td>\n",
              "      <td>0</td>\n",
              "      <td>782</td>\n",
              "    </tr>\n",
              "  </tbody>\n",
              "</table>\n",
              "</div>\n",
              "      <button class=\"colab-df-convert\" onclick=\"convertToInteractive('df-f6704bc0-5767-4cfc-a8a9-90f9d7c29ea3')\"\n",
              "              title=\"Convert this dataframe to an interactive table.\"\n",
              "              style=\"display:none;\">\n",
              "        \n",
              "  <svg xmlns=\"http://www.w3.org/2000/svg\" height=\"24px\"viewBox=\"0 0 24 24\"\n",
              "       width=\"24px\">\n",
              "    <path d=\"M0 0h24v24H0V0z\" fill=\"none\"/>\n",
              "    <path d=\"M18.56 5.44l.94 2.06.94-2.06 2.06-.94-2.06-.94-.94-2.06-.94 2.06-2.06.94zm-11 1L8.5 8.5l.94-2.06 2.06-.94-2.06-.94L8.5 2.5l-.94 2.06-2.06.94zm10 10l.94 2.06.94-2.06 2.06-.94-2.06-.94-.94-2.06-.94 2.06-2.06.94z\"/><path d=\"M17.41 7.96l-1.37-1.37c-.4-.4-.92-.59-1.43-.59-.52 0-1.04.2-1.43.59L10.3 9.45l-7.72 7.72c-.78.78-.78 2.05 0 2.83L4 21.41c.39.39.9.59 1.41.59.51 0 1.02-.2 1.41-.59l7.78-7.78 2.81-2.81c.8-.78.8-2.07 0-2.86zM5.41 20L4 18.59l7.72-7.72 1.47 1.35L5.41 20z\"/>\n",
              "  </svg>\n",
              "      </button>\n",
              "      \n",
              "  <style>\n",
              "    .colab-df-container {\n",
              "      display:flex;\n",
              "      flex-wrap:wrap;\n",
              "      gap: 12px;\n",
              "    }\n",
              "\n",
              "    .colab-df-convert {\n",
              "      background-color: #E8F0FE;\n",
              "      border: none;\n",
              "      border-radius: 50%;\n",
              "      cursor: pointer;\n",
              "      display: none;\n",
              "      fill: #1967D2;\n",
              "      height: 32px;\n",
              "      padding: 0 0 0 0;\n",
              "      width: 32px;\n",
              "    }\n",
              "\n",
              "    .colab-df-convert:hover {\n",
              "      background-color: #E2EBFA;\n",
              "      box-shadow: 0px 1px 2px rgba(60, 64, 67, 0.3), 0px 1px 3px 1px rgba(60, 64, 67, 0.15);\n",
              "      fill: #174EA6;\n",
              "    }\n",
              "\n",
              "    [theme=dark] .colab-df-convert {\n",
              "      background-color: #3B4455;\n",
              "      fill: #D2E3FC;\n",
              "    }\n",
              "\n",
              "    [theme=dark] .colab-df-convert:hover {\n",
              "      background-color: #434B5C;\n",
              "      box-shadow: 0px 1px 3px 1px rgba(0, 0, 0, 0.15);\n",
              "      filter: drop-shadow(0px 1px 2px rgba(0, 0, 0, 0.3));\n",
              "      fill: #FFFFFF;\n",
              "    }\n",
              "  </style>\n",
              "\n",
              "      <script>\n",
              "        const buttonEl =\n",
              "          document.querySelector('#df-f6704bc0-5767-4cfc-a8a9-90f9d7c29ea3 button.colab-df-convert');\n",
              "        buttonEl.style.display =\n",
              "          google.colab.kernel.accessAllowed ? 'block' : 'none';\n",
              "\n",
              "        async function convertToInteractive(key) {\n",
              "          const element = document.querySelector('#df-f6704bc0-5767-4cfc-a8a9-90f9d7c29ea3');\n",
              "          const dataTable =\n",
              "            await google.colab.kernel.invokeFunction('convertToInteractive',\n",
              "                                                     [key], {});\n",
              "          if (!dataTable) return;\n",
              "\n",
              "          const docLinkHtml = 'Like what you see? Visit the ' +\n",
              "            '<a target=\"_blank\" href=https://colab.research.google.com/notebooks/data_table.ipynb>data table notebook</a>'\n",
              "            + ' to learn more about interactive tables.';\n",
              "          element.innerHTML = '';\n",
              "          dataTable['output_type'] = 'display_data';\n",
              "          await google.colab.output.renderOutput(dataTable, element);\n",
              "          const docLink = document.createElement('div');\n",
              "          docLink.innerHTML = docLinkHtml;\n",
              "          element.appendChild(docLink);\n",
              "        }\n",
              "      </script>\n",
              "    </div>\n",
              "  </div>\n",
              "  "
            ],
            "text/plain": [
              "   Unnamed: 0                                             review sentiment  \\\n",
              "0        8718  hard use word movie, since contains none itsel...  positive   \n",
              "1       14211  say necromaniac/schizophreniac 2 series is... ...  positive   \n",
              "2       48907  so-so thriller starring brad pitt juliette lew...  positive   \n",
              "3       29804  sat part che last night, back back brief bathr...  positive   \n",
              "4       38386  unfortunately one movie least make laugh unbel...  negative   \n",
              "\n",
              "   target  length  \n",
              "0       1     241  \n",
              "1       1    1271  \n",
              "2       1     480  \n",
              "3       1    2911  \n",
              "4       0     782  "
            ]
          },
          "execution_count": 45,
          "metadata": {},
          "output_type": "execute_result"
        }
      ],
      "source": [
        "df.head()"
      ]
    },
    {
      "cell_type": "code",
      "execution_count": null,
      "metadata": {
        "id": "0Ma799ym0dYp"
      },
      "outputs": [],
      "source": [
        "#Vectorization"
      ]
    },
    {
      "cell_type": "code",
      "execution_count": null,
      "metadata": {
        "colab": {
          "base_uri": "https://localhost:8080/"
        },
        "id": "10u-CkHj0dV2",
        "outputId": "a063eb66-7055-4ca8-c988-dffae3576a3a"
      },
      "outputs": [
        {
          "name": "stdout",
          "output_type": "stream",
          "text": [
            "found  120811  unique tokens\n",
            "Shape of data tensor: (25000, 2000)\n",
            "(25000, 2000) (25000, 2)\n",
            "(25000, 2000) (25000, 2)\n"
          ]
        }
      ],
      "source": [
        "dataset = df\n",
        "unique_label = np.unique(df[\"target\"])\n",
        "num_classes = len(unique_label)\n",
        "\n",
        "from sklearn.model_selection import train_test_split\n",
        "X_train, X_test, y_train, y_test = train_test_split(dataset['review'].values, pd.get_dummies(dataset['target']).values, test_size=0.50)\n",
        "\n",
        "MAX_NB_WORDS = 120811\n",
        "MAX_SEQUENCE_LENGTH = 2000\n",
        "EMBEDDING_DIM = 250\n",
        "\n",
        "tokenizer = Tokenizer(num_words=MAX_NB_WORDS)\n",
        "tokenizer.fit_on_texts(X_train)\n",
        "tokenizer.fit_on_texts(X_test)\n",
        "word_index = tokenizer.word_index\n",
        "print(\"found \", len(word_index), \" unique tokens\")\n",
        "\n",
        "train_seq = tokenizer.texts_to_sequences(X_train)\n",
        "test_seq = tokenizer.texts_to_sequences(X_test)\n",
        "pad_train = pad_sequences(train_seq, maxlen=MAX_SEQUENCE_LENGTH)\n",
        "pad_test = pad_sequences(test_seq, maxlen=MAX_SEQUENCE_LENGTH)\n",
        "print('Shape of data tensor:', pad_train.shape)\n",
        "\n",
        "print(pad_train.shape,y_train.shape)\n",
        "print(pad_test.shape,y_test.shape)"
      ]
    },
    {
      "cell_type": "code",
      "execution_count": null,
      "metadata": {
        "colab": {
          "base_uri": "https://localhost:8080/"
        },
        "id": "2WwK89K-0dTA",
        "outputId": "26d436c7-5c6c-4849-9e79-d9f4bf7867a0"
      },
      "outputs": [
        {
          "name": "stdout",
          "output_type": "stream",
          "text": [
            "Model: \"sequential_2\"\n",
            "_________________________________________________________________\n",
            " Layer (type)                Output Shape              Param #   \n",
            "=================================================================\n",
            " embedding_1 (Embedding)     (None, 2000, 250)         30202750  \n",
            "                                                                 \n",
            " simple_rnn (SimpleRNN)      (None, 250)               125250    \n",
            "                                                                 \n",
            " dense_2 (Dense)             (None, 2)                 502       \n",
            "                                                                 \n",
            "=================================================================\n",
            "Total params: 30,328,502\n",
            "Trainable params: 30,328,502\n",
            "Non-trainable params: 0\n",
            "_________________________________________________________________\n"
          ]
        }
      ],
      "source": [
        "model_1 = Sequential()\n",
        "model_1.add(Embedding(MAX_NB_WORDS, EMBEDDING_DIM, input_length=pad_train.shape[1]))\n",
        "model_1.add(SimpleRNN(250, activation= 'relu'))\n",
        "model_1.add(Dense(2, activation='sigmoid'))\n",
        "\n",
        "\n",
        "model_1.compile(loss='binary_crossentropy', optimizer='adam', metrics=['accuracy']) \n",
        "model_1.summary()\n",
        "\n",
        "epochs = 20\n",
        "batch_size = 128"
      ]
    },
    {
      "cell_type": "code",
      "execution_count": null,
      "metadata": {
        "colab": {
          "base_uri": "https://localhost:8080/"
        },
        "id": "u2OyMq_P0c7S",
        "outputId": "52b154fd-b675-4a2b-cc90-34819345eddf"
      },
      "outputs": [
        {
          "name": "stdout",
          "output_type": "stream",
          "text": [
            "Epoch 1/20\n",
            "196/196 [==============================] - 803s 4s/step - loss: 401834770432.0000 - accuracy: 0.6519 - val_loss: 1889.3165 - val_accuracy: 0.6656\n",
            "Epoch 2/20\n",
            "196/196 [==============================] - 721s 4s/step - loss: 2809433.2500 - accuracy: 0.7764 - val_loss: 0.5161 - val_accuracy: 0.7135\n",
            "Epoch 3/20\n",
            "196/196 [==============================] - 722s 4s/step - loss: 0.3181 - accuracy: 0.8723 - val_loss: 0.3733 - val_accuracy: 0.8365\n",
            "Epoch 4/20\n",
            "196/196 [==============================] - 720s 4s/step - loss: 0.1408 - accuracy: 0.9475 - val_loss: 0.3573 - val_accuracy: 0.8602\n",
            "Epoch 5/20\n",
            "196/196 [==============================] - 703s 4s/step - loss: 0.0965 - accuracy: 0.9712 - val_loss: 0.5167 - val_accuracy: 0.8640\n",
            "Epoch 6/20\n",
            "196/196 [==============================] - 711s 4s/step - loss: 0.0494 - accuracy: 0.9857 - val_loss: 0.5513 - val_accuracy: 0.8620\n",
            "Epoch 7/20\n",
            "196/196 [==============================] - 701s 4s/step - loss: 0.0163 - accuracy: 0.9958 - val_loss: 0.6080 - val_accuracy: 0.8570\n",
            "Epoch 8/20\n",
            "196/196 [==============================] - 673s 3s/step - loss: 0.0068 - accuracy: 0.9984 - val_loss: 0.7540 - val_accuracy: 0.8582\n",
            "Epoch 9/20\n",
            "196/196 [==============================] - 697s 4s/step - loss: 0.1287 - accuracy: 0.9563 - val_loss: 0.5935 - val_accuracy: 0.8464\n",
            "Epoch 10/20\n",
            "196/196 [==============================] - 675s 3s/step - loss: 0.0137 - accuracy: 0.9956 - val_loss: 0.6948 - val_accuracy: 0.8466\n",
            "Epoch 11/20\n",
            "196/196 [==============================] - 667s 3s/step - loss: 0.0081 - accuracy: 0.9982 - val_loss: 0.7321 - val_accuracy: 0.8469\n",
            "Epoch 12/20\n",
            "196/196 [==============================] - 675s 3s/step - loss: 0.0024 - accuracy: 0.9995 - val_loss: 0.8231 - val_accuracy: 0.8510\n",
            "Epoch 13/20\n",
            "196/196 [==============================] - 685s 3s/step - loss: 9.7506e-04 - accuracy: 0.9999 - val_loss: 0.8295 - val_accuracy: 0.8511\n",
            "Epoch 14/20\n",
            "196/196 [==============================] - 655s 3s/step - loss: 4.8661e-04 - accuracy: 1.0000 - val_loss: 1.0066 - val_accuracy: 0.8518\n",
            "Epoch 15/20\n",
            "196/196 [==============================] - 653s 3s/step - loss: 3.1904e-04 - accuracy: 1.0000 - val_loss: 1.0935 - val_accuracy: 0.8516\n",
            "Epoch 16/20\n",
            "196/196 [==============================] - 651s 3s/step - loss: 2.8218e-04 - accuracy: 1.0000 - val_loss: 1.0981 - val_accuracy: 0.8509\n",
            "Epoch 17/20\n",
            "196/196 [==============================] - 653s 3s/step - loss: 1.8872e-04 - accuracy: 1.0000 - val_loss: 1.1244 - val_accuracy: 0.8512\n",
            "Epoch 18/20\n",
            "196/196 [==============================] - 654s 3s/step - loss: 1.4016e-04 - accuracy: 1.0000 - val_loss: 1.1679 - val_accuracy: 0.8509\n",
            "Epoch 19/20\n",
            "196/196 [==============================] - 649s 3s/step - loss: 1.5362e-04 - accuracy: 1.0000 - val_loss: 1.1601 - val_accuracy: 0.8508\n",
            "Epoch 20/20\n",
            "196/196 [==============================] - 652s 3s/step - loss: 9.3737e-05 - accuracy: 1.0000 - val_loss: 1.2553 - val_accuracy: 0.8506\n"
          ]
        }
      ],
      "source": [
        "history = model_1.fit(pad_train, y_train, epochs=epochs, batch_size=batch_size,validation_data=(pad_test, y_test))"
      ]
    },
    {
      "cell_type": "code",
      "execution_count": null,
      "metadata": {
        "colab": {
          "base_uri": "https://localhost:8080/"
        },
        "id": "tG0bjtEY0iLv",
        "outputId": "278eb0a8-0310-4d38-cc1c-3b82c1ae007e"
      },
      "outputs": [
        {
          "name": "stdout",
          "output_type": "stream",
          "text": [
            "782/782 [==============================] - 148s 189ms/step - loss: 1.2553 - accuracy: 0.8506\n",
            "Accuracy is :  85.0600004196167\n"
          ]
        }
      ],
      "source": [
        "evaluation = model_1.evaluate(pad_test,y_test)\n",
        "accuracy = evaluation[1] * 100\n",
        "print(\"Accuracy is : \", accuracy)"
      ]
    },
    {
      "cell_type": "code",
      "execution_count": null,
      "metadata": {
        "colab": {
          "base_uri": "https://localhost:8080/",
          "height": 295
        },
        "id": "Qx2SX02w0iJd",
        "outputId": "c6e6f6cb-2e59-4802-a784-2bdadc32bba0"
      },
      "outputs": [
        {
          "data": {
            "image/png": "[encoded data removed]",
            "text/plain": [
              "<Figure size 432x288 with 1 Axes>"
            ]
          },
          "metadata": {},
          "output_type": "display_data"
        }
      ],
      "source": [
        "from matplotlib import pyplot\n",
        "\n",
        "pyplot.plot(history.history['loss'], color='r')\n",
        "# pyplot.plot(history.history['val_loss'], color='b')\n",
        "pyplot.title('loss curve')\n",
        "pyplot.ylabel('loss')\n",
        "pyplot.xlabel('epoch')\n",
        "pyplot.legend(['loss', 'val_loss'], loc='upper right')\n",
        "pyplot.show()"
      ]
    },
    {
      "cell_type": "code",
      "execution_count": null,
      "metadata": {
        "colab": {
          "base_uri": "https://localhost:8080/",
          "height": 295
        },
        "id": "P0a4ng8a0iGf",
        "outputId": "b371b9fd-f2c1-47a8-8047-18f6b3250821"
      },
      "outputs": [
        {
          "data": {
            "image/png": "[encoded data removed]",
            "text/plain": [
              "<Figure size 432x288 with 1 Axes>"
            ]
          },
          "metadata": {},
          "output_type": "display_data"
        }
      ],
      "source": [
        "from matplotlib import pyplot\n",
        "\n",
        "pyplot.plot(history.history['accuracy'], color='b')\n",
        "# pyplot.plot(history.history['val_accuracy'], color='b')\n",
        "pyplot.title('accuracy curve')\n",
        "pyplot.ylabel('accuracy')\n",
        "pyplot.xlabel('epoch')\n",
        "pyplot.legend(['accuracy', 'val_accuracy'], loc='upper right')\n",
        "pyplot.show()"
      ]
    },
    {
      "cell_type": "code",
      "execution_count": null,
      "metadata": {
        "colab": {
          "base_uri": "https://localhost:8080/",
          "height": 295
        },
        "id": "souFBcLr0h7I",
        "outputId": "6bdcffb2-33de-47d3-9dcd-8eb1eae6cf17"
      },
      "outputs": [
        {
          "data": {
            "image/png": "[encoded data removed]",
            "text/plain": [
              "<Figure size 432x288 with 2 Axes>"
            ]
          },
          "metadata": {},
          "output_type": "display_data"
        }
      ],
      "source": [
        "y_pred = model_1.predict(pad_test)\n",
        "\n",
        "new_y_pred = np.argmax(y_pred, axis=1)\n",
        "new_y_test = np.argmax(y_test, axis=1)\n",
        "\n",
        "conf_arr = np.zeros((num_classes, num_classes))\n",
        "\n",
        "for i in range(len(new_y_pred)):\n",
        "        conf_arr[new_y_pred[i]][new_y_test[i]] += 1\n",
        "\n",
        "df_cm = pd.DataFrame(conf_arr, index = unique_label, columns = unique_label)\n",
        "\n",
        "\n",
        "fig = plt.figure()\n",
        "plt.clf()\n",
        "\n",
        "ax = fig.add_subplot()\n",
        "ax.set_aspect(1)\n",
        "\n",
        "cmap = sb.cubehelix_palette(light=1, as_cmap=True)\n",
        "res = sb.heatmap(df_cm, annot=True, vmin=0.0, vmax=np.max(conf_arr), fmt='.2f', cmap=cmap)\n",
        "\n",
        "plt.title('Confusion Matrix')\n",
        "plt.ylabel('Predicted')\n",
        "plt.xlabel('True')\n",
        "plt.show()"
      ]
    },
    {
      "cell_type": "code",
      "execution_count": null,
      "metadata": {
        "colab": {
          "base_uri": "https://localhost:8080/"
        },
        "id": "vO8-c1j91Sv1",
        "outputId": "35a8c363-ab49-4084-a525-074c5c8f2c03"
      },
      "outputs": [
        {
          "name": "stdout",
          "output_type": "stream",
          "text": [
            "84.065027880311\n",
            "85.14497076721155\n",
            "86.25302175664787\n"
          ]
        }
      ],
      "source": [
        "precision =   precision_score(new_y_test, new_y_pred) * 100\n",
        "recall =  recall_score(new_y_test, new_y_pred) * 100\n",
        "f1_score =  f1_score(new_y_test, new_y_pred) * 100\n",
        "print(precision)\n",
        "print(f1_score)\n",
        "print(recall)"
      ]
    },
    {
      "cell_type": "code",
      "execution_count": null,
      "metadata": {
        "colab": {
          "base_uri": "https://localhost:8080/"
        },
        "id": "QtGAb3xA1St4",
        "outputId": "face06cc-5126-4c69-fd4b-ec4e2aa7918c"
      },
      "outputs": [
        {
          "name": "stdout",
          "output_type": "stream",
          "text": [
            "              precision    recall  f1-score   support\n",
            "\n",
            "           0       0.86      0.84      0.85     12590\n",
            "           1       0.84      0.86      0.85     12410\n",
            "\n",
            "    accuracy                           0.85     25000\n",
            "   macro avg       0.85      0.85      0.85     25000\n",
            "weighted avg       0.85      0.85      0.85     25000\n",
            "\n"
          ]
        }
      ],
      "source": [
        "print(classification_report(new_y_test, new_y_pred))"
      ]
    },
    {
      "cell_type": "code",
      "execution_count": null,
      "metadata": {
        "colab": {
          "base_uri": "https://localhost:8080/"
        },
        "id": "FzjX9ssj1SrA",
        "outputId": "824fe78b-65e5-4117-92f5-dcf227dac255"
      },
      "outputs": [
        {
          "name": "stdout",
          "output_type": "stream",
          "text": [
            "Pricision =  84.065027880311\n",
            "F1_score =  85.14497076721155\n",
            "Recall =  86.25302175664787\n"
          ]
        }
      ],
      "source": [
        "from sklearn.metrics import f1_score, precision_score, recall_score\n",
        "\n",
        "precision =   precision_score(new_y_test, new_y_pred) * 100\n",
        "recall =  recall_score(new_y_test, new_y_pred) * 100\n",
        "f1_score =  f1_score(new_y_test, new_y_pred) * 100\n",
        "print('Pricision = ',precision)\n",
        "print('F1_score = ',f1_score)\n",
        "print('Recall = ',recall)"
      ]
    },
    {
      "cell_type": "code",
      "execution_count": null,
      "metadata": {
        "colab": {
          "base_uri": "https://localhost:8080/"
        },
        "id": "hpuz56N21SoP",
        "outputId": "46031679-63dd-4c78-9ee7-46113709ca89"
      },
      "outputs": [
        {
          "name": "stdout",
          "output_type": "stream",
          "text": [
            "INFO:tensorflow:Assets written to: /content/drive/MyDrive/Soft Computing/Project/saved_info/RNN/v1/assets\n"
          ]
        }
      ],
      "source": [
        "model_1.save('/content/drive/MyDrive/Soft Computing/Project/saved_info/RNN/v1')"
      ]
    },
    {
      "cell_type": "code",
      "execution_count": null,
      "metadata": {
        "id": "ZDj6lsU21YBM"
      },
      "outputs": [],
      "source": [
        "import keras\n",
        "loaded_model = keras.models.load_model('/content/drive/MyDrive/Soft Computing/Project/saved_info/RNN/v1')"
      ]
    },
    {
      "cell_type": "code",
      "execution_count": null,
      "metadata": {
        "colab": {
          "base_uri": "https://localhost:8080/"
        },
        "id": "uTidFKzs1X-k",
        "outputId": "6f42af67-db9d-427a-e8ce-8ca4d1c89882"
      },
      "outputs": [
        {
          "name": "stdout",
          "output_type": "stream",
          "text": [
            "782/782 [==============================] - 150s 192ms/step - loss: 1.2553 - accuracy: 0.8506\n",
            "Accuracy is :  85.0600004196167\n"
          ]
        }
      ],
      "source": [
        "evaluation = loaded_model.evaluate(pad_test,y_test)\n",
        "accuracy = evaluation[1] * 100\n",
        "print(\"Accuracy is : \", accuracy)"
      ]
    },
    {
      "cell_type": "code",
      "execution_count": null,
      "metadata": {
        "id": "qVmWEARD1jLc"
      },
      "outputs": [],
      "source": [
        "np.save('/content/drive/MyDrive/Soft Computing/Project/saved_info/RNN/v1/history.npy',history.history)"
      ]
    },
    {
      "cell_type": "code",
      "execution_count": null,
      "metadata": {
        "id": "63B-Jdux1jHI"
      },
      "outputs": [],
      "source": [
        "h=np.load('/content/drive/MyDrive/Soft Computing/Project/saved_info/RNN/v1/history.npy',allow_pickle='TRUE').item()"
      ]
    },
    {
      "cell_type": "code",
      "execution_count": null,
      "metadata": {
        "colab": {
          "base_uri": "https://localhost:8080/",
          "height": 295
        },
        "id": "gC97Q8NZ1jEi",
        "outputId": "2aa3bb43-4c69-48aa-914d-9ac362b98baf"
      },
      "outputs": [
        {
          "data": {
            "image/png": "[encoded data removed]",
            "text/plain": [
              "<Figure size 432x288 with 1 Axes>"
            ]
          },
          "metadata": {},
          "output_type": "display_data"
        }
      ],
      "source": [
        "from matplotlib import pyplot\n",
        "\n",
        "pyplot.plot(h['accuracy'], color='b')\n",
        "# pyplot.plot(history.history['val_accuracy'], color='b')\n",
        "pyplot.title('accuracy curve')\n",
        "pyplot.ylabel('accuracy')\n",
        "pyplot.xlabel('epoch')\n",
        "pyplot.legend(['accuracy', 'val_accuracy'], loc='upper right')\n",
        "pyplot.show()"
      ]
    },
    {
      "cell_type": "code",
      "execution_count": null,
      "metadata": {
        "id": "vUj9FiXg1jBr"
      },
      "outputs": [],
      "source": [
        "import pandas as pd\n",
        "import numpy as np\n",
        "import math\n",
        "import re\n",
        "import random\n",
        "import nltk\n",
        "from nltk.stem import WordNetLemmatizer\n",
        "from nltk.tokenize import WhitespaceTokenizer\n",
        "\n",
        "from keras.preprocessing.text import Tokenizer\n",
        "from keras.preprocessing.sequence import pad_sequences\n",
        "from keras.models import Sequential\n",
        "from keras.layers import Dense, Embedding, LSTM, SpatialDropout1D, SimpleRNN, Bidirectional\n",
        "from keras.layers import Dropout\n",
        "from keras.utils.np_utils import to_categorical\n",
        "from keras.utils.vis_utils import plot_model\n",
        "\n",
        "from sklearn.model_selection import train_test_split\n",
        "from sklearn.metrics import f1_score, precision_score, recall_score\n",
        "from sklearn.metrics import classification_report, confusion_matrix\n",
        "\n",
        "import matplotlib as mpl\n",
        "import matplotlib.pyplot as plt\n",
        "import seaborn as sb"
      ]
    },
    {
      "cell_type": "code",
      "execution_count": null,
      "metadata": {
        "id": "3O_HtXl91zot"
      },
      "outputs": [],
      "source": [
        "df = pd.read_csv('/content/drive/MyDrive/updated_dataset.csv')"
      ]
    },
    {
      "cell_type": "code",
      "execution_count": null,
      "metadata": {
        "colab": {
          "base_uri": "https://localhost:8080/",
          "height": 206
        },
        "id": "fT_zGvpv1zlb",
        "outputId": "4c0c89d4-57a6-4f20-948f-20b855de2072"
      },
      "outputs": [
        {
          "data": {
            "text/html": [
              "\n",
              "  <div id=\"df-dcdd7be4-4664-435d-a7be-3de904d27ce5\">\n",
              "    <div class=\"colab-df-container\">\n",
              "      <div>\n",
              "<style scoped>\n",
              "    .dataframe tbody tr th:only-of-type {\n",
              "        vertical-align: middle;\n",
              "    }\n",
              "\n",
              "    .dataframe tbody tr th {\n",
              "        vertical-align: top;\n",
              "    }\n",
              "\n",
              "    .dataframe thead th {\n",
              "        text-align: right;\n",
              "    }\n",
              "</style>\n",
              "<table border=\"1\" class=\"dataframe\">\n",
              "  <thead>\n",
              "    <tr style=\"text-align: right;\">\n",
              "      <th></th>\n",
              "      <th>Unnamed: 0</th>\n",
              "      <th>review</th>\n",
              "      <th>sentiment</th>\n",
              "      <th>target</th>\n",
              "      <th>length</th>\n",
              "    </tr>\n",
              "  </thead>\n",
              "  <tbody>\n",
              "    <tr>\n",
              "      <th>0</th>\n",
              "      <td>29223</td>\n",
              "      <td>really liked movie. watched last night public ...</td>\n",
              "      <td>positive</td>\n",
              "      <td>1</td>\n",
              "      <td>436</td>\n",
              "    </tr>\n",
              "    <tr>\n",
              "      <th>1</th>\n",
              "      <td>34213</td>\n",
              "      <td>shecky, god damned legend, make mistake. recen...</td>\n",
              "      <td>negative</td>\n",
              "      <td>0</td>\n",
              "      <td>965</td>\n",
              "    </tr>\n",
              "    <tr>\n",
              "      <th>2</th>\n",
              "      <td>5159</td>\n",
              "      <td>along fernando fragata, joão mário grilo, abi ...</td>\n",
              "      <td>positive</td>\n",
              "      <td>1</td>\n",
              "      <td>391</td>\n",
              "    </tr>\n",
              "    <tr>\n",
              "      <th>3</th>\n",
              "      <td>5585</td>\n",
              "      <td>second alternate gundam universe tale (g-gunda...</td>\n",
              "      <td>positive</td>\n",
              "      <td>1</td>\n",
              "      <td>1651</td>\n",
              "    </tr>\n",
              "    <tr>\n",
              "      <th>4</th>\n",
              "      <td>20044</td>\n",
              "      <td>went see omega code group christian totaling 1...</td>\n",
              "      <td>negative</td>\n",
              "      <td>0</td>\n",
              "      <td>567</td>\n",
              "    </tr>\n",
              "  </tbody>\n",
              "</table>\n",
              "</div>\n",
              "      <button class=\"colab-df-convert\" onclick=\"convertToInteractive('df-dcdd7be4-4664-435d-a7be-3de904d27ce5')\"\n",
              "              title=\"Convert this dataframe to an interactive table.\"\n",
              "              style=\"display:none;\">\n",
              "        \n",
              "  <svg xmlns=\"http://www.w3.org/2000/svg\" height=\"24px\"viewBox=\"0 0 24 24\"\n",
              "       width=\"24px\">\n",
              "    <path d=\"M0 0h24v24H0V0z\" fill=\"none\"/>\n",
              "    <path d=\"M18.56 5.44l.94 2.06.94-2.06 2.06-.94-2.06-.94-.94-2.06-.94 2.06-2.06.94zm-11 1L8.5 8.5l.94-2.06 2.06-.94-2.06-.94L8.5 2.5l-.94 2.06-2.06.94zm10 10l.94 2.06.94-2.06 2.06-.94-2.06-.94-.94-2.06-.94 2.06-2.06.94z\"/><path d=\"M17.41 7.96l-1.37-1.37c-.4-.4-.92-.59-1.43-.59-.52 0-1.04.2-1.43.59L10.3 9.45l-7.72 7.72c-.78.78-.78 2.05 0 2.83L4 21.41c.39.39.9.59 1.41.59.51 0 1.02-.2 1.41-.59l7.78-7.78 2.81-2.81c.8-.78.8-2.07 0-2.86zM5.41 20L4 18.59l7.72-7.72 1.47 1.35L5.41 20z\"/>\n",
              "  </svg>\n",
              "      </button>\n",
              "      \n",
              "  <style>\n",
              "    .colab-df-container {\n",
              "      display:flex;\n",
              "      flex-wrap:wrap;\n",
              "      gap: 12px;\n",
              "    }\n",
              "\n",
              "    .colab-df-convert {\n",
              "      background-color: #E8F0FE;\n",
              "      border: none;\n",
              "      border-radius: 50%;\n",
              "      cursor: pointer;\n",
              "      display: none;\n",
              "      fill: #1967D2;\n",
              "      height: 32px;\n",
              "      padding: 0 0 0 0;\n",
              "      width: 32px;\n",
              "    }\n",
              "\n",
              "    .colab-df-convert:hover {\n",
              "      background-color: #E2EBFA;\n",
              "      box-shadow: 0px 1px 2px rgba(60, 64, 67, 0.3), 0px 1px 3px 1px rgba(60, 64, 67, 0.15);\n",
              "      fill: #174EA6;\n",
              "    }\n",
              "\n",
              "    [theme=dark] .colab-df-convert {\n",
              "      background-color: #3B4455;\n",
              "      fill: #D2E3FC;\n",
              "    }\n",
              "\n",
              "    [theme=dark] .colab-df-convert:hover {\n",
              "      background-color: #434B5C;\n",
              "      box-shadow: 0px 1px 3px 1px rgba(0, 0, 0, 0.15);\n",
              "      filter: drop-shadow(0px 1px 2px rgba(0, 0, 0, 0.3));\n",
              "      fill: #FFFFFF;\n",
              "    }\n",
              "  </style>\n",
              "\n",
              "      <script>\n",
              "        const buttonEl =\n",
              "          document.querySelector('#df-dcdd7be4-4664-435d-a7be-3de904d27ce5 button.colab-df-convert');\n",
              "        buttonEl.style.display =\n",
              "          google.colab.kernel.accessAllowed ? 'block' : 'none';\n",
              "\n",
              "        async function convertToInteractive(key) {\n",
              "          const element = document.querySelector('#df-dcdd7be4-4664-435d-a7be-3de904d27ce5');\n",
              "          const dataTable =\n",
              "            await google.colab.kernel.invokeFunction('convertToInteractive',\n",
              "                                                     [key], {});\n",
              "          if (!dataTable) return;\n",
              "\n",
              "          const docLinkHtml = 'Like what you see? Visit the ' +\n",
              "            '<a target=\"_blank\" href=https://colab.research.google.com/notebooks/data_table.ipynb>data table notebook</a>'\n",
              "            + ' to learn more about interactive tables.';\n",
              "          element.innerHTML = '';\n",
              "          dataTable['output_type'] = 'display_data';\n",
              "          await google.colab.output.renderOutput(dataTable, element);\n",
              "          const docLink = document.createElement('div');\n",
              "          docLink.innerHTML = docLinkHtml;\n",
              "          element.appendChild(docLink);\n",
              "        }\n",
              "      </script>\n",
              "    </div>\n",
              "  </div>\n",
              "  "
            ],
            "text/plain": [
              "   Unnamed: 0                                             review sentiment  \\\n",
              "0       29223  really liked movie. watched last night public ...  positive   \n",
              "1       34213  shecky, god damned legend, make mistake. recen...  negative   \n",
              "2        5159  along fernando fragata, joão mário grilo, abi ...  positive   \n",
              "3        5585  second alternate gundam universe tale (g-gunda...  positive   \n",
              "4       20044  went see omega code group christian totaling 1...  negative   \n",
              "\n",
              "   target  length  \n",
              "0       1     436  \n",
              "1       0     965  \n",
              "2       1     391  \n",
              "3       1    1651  \n",
              "4       0     567  "
            ]
          },
          "execution_count": 56,
          "metadata": {},
          "output_type": "execute_result"
        }
      ],
      "source": [
        "df.head()"
      ]
    },
    {
      "cell_type": "code",
      "execution_count": null,
      "metadata": {
        "colab": {
          "base_uri": "https://localhost:8080/"
        },
        "id": "4rkj0zXJxrRW",
        "outputId": "133fc5f5-74ef-4b15-fa80-8e90cf482048"
      },
      "outputs": [
        {
          "name": "stdout",
          "output_type": "stream",
          "text": [
            "found  120805  unique tokens\n",
            "Shape of data tensor: (25000, 2000)\n",
            "(25000, 2000) (25000, 2)\n",
            "(25000, 2000) (25000, 2)\n"
          ]
        }
      ],
      "source": [
        "dataset = df\n",
        "unique_label = np.unique(df[\"target\"])\n",
        "num_classes = len(unique_label)\n",
        "\n",
        "from sklearn.model_selection import train_test_split\n",
        "X_train, X_test, y_train, y_test = train_test_split(dataset['review'].values, pd.get_dummies(dataset['target']).values, test_size=0.50)\n",
        "\n",
        "MAX_NB_WORDS = 120811\n",
        "MAX_SEQUENCE_LENGTH = 2000\n",
        "EMBEDDING_DIM = 250\n",
        "\n",
        "tokenizer = Tokenizer(num_words=MAX_NB_WORDS)\n",
        "tokenizer.fit_on_texts(X_train)\n",
        "tokenizer.fit_on_texts(X_test)\n",
        "word_index = tokenizer.word_index\n",
        "print(\"found \", len(word_index), \" unique tokens\")\n",
        "\n",
        "train_seq = tokenizer.texts_to_sequences(X_train)\n",
        "test_seq = tokenizer.texts_to_sequences(X_test)\n",
        "pad_train = pad_sequences(train_seq, maxlen=MAX_SEQUENCE_LENGTH)\n",
        "pad_test = pad_sequences(test_seq, maxlen=MAX_SEQUENCE_LENGTH)\n",
        "print('Shape of data tensor:', pad_train.shape)\n",
        "\n",
        "print(pad_train.shape,y_train.shape)\n",
        "print(pad_test.shape,y_test.shape)"
      ]
    },
    {
      "cell_type": "code",
      "execution_count": null,
      "metadata": {
        "colab": {
          "base_uri": "https://localhost:8080/"
        },
        "id": "XEVx5EZtxrMB",
        "outputId": "923a881d-cc68-4c41-f6bd-161b99bc03c9"
      },
      "outputs": [
        {
          "name": "stdout",
          "output_type": "stream",
          "text": [
            "Model: \"sequential_2\"\n",
            "_________________________________________________________________\n",
            " Layer (type)                Output Shape              Param #   \n",
            "=================================================================\n",
            " embedding_2 (Embedding)     (None, 2000, 250)         30202750  \n",
            "                                                                 \n",
            " lstm_2 (LSTM)               (None, 250)               501000    \n",
            "                                                                 \n",
            " dropout_2 (Dropout)         (None, 250)               0         \n",
            "                                                                 \n",
            " dense_2 (Dense)             (None, 2)                 502       \n",
            "                                                                 \n",
            "=================================================================\n",
            "Total params: 30,704,252\n",
            "Trainable params: 30,704,252\n",
            "Non-trainable params: 0\n",
            "_________________________________________________________________\n"
          ]
        }
      ],
      "source": [
        "model_1 = Sequential()\n",
        "model_1.add(Embedding(MAX_NB_WORDS, EMBEDDING_DIM, input_length=pad_train.shape[1]))\n",
        "model_1.add(LSTM(250, activation= 'tanh', return_sequences=False))\n",
        "model_1.add(Dropout(0.5))\n",
        "model_1.add(Dense(2, activation='sigmoid'))\n",
        "\n",
        "model_1.compile(loss='binary_crossentropy', optimizer='adam', metrics=['accuracy']) \n",
        "model_1.summary()\n",
        "\n",
        "epochs = 20\n",
        "batch_size = 128"
      ]
    },
    {
      "cell_type": "code",
      "execution_count": null,
      "metadata": {
        "colab": {
          "background_save": true,
          "base_uri": "https://localhost:8080/"
        },
        "id": "JZ5VV7zwxq_9",
        "outputId": "59acac48-d197-4c81-c2bc-b158d19fe382"
      },
      "outputs": [
        {
          "name": "stdout",
          "output_type": "stream",
          "text": [
            "Epoch 1/20\n",
            "176/176 [==============================] - 4569s 26s/step - loss: 0.4057 - accuracy: 0.8154 - val_loss: 0.2527 - val_accuracy: 0.9016\n",
            "Epoch 2/20\n",
            "176/176 [==============================] - 4374s 25s/step - loss: 0.2094 - accuracy: 0.9206 - val_loss: 0.2985 - val_accuracy: 0.8884\n",
            "Epoch 3/20\n",
            "176/176 [==============================] - 4282s 24s/step - loss: 0.0862 - accuracy: 0.9713 - val_loss: 0.3162 - val_accuracy: 0.8872\n",
            "Epoch 4/20\n",
            "176/176 [==============================] - 4046s 23s/step - loss: 0.0458 - accuracy: 0.9856 - val_loss: 0.5151 - val_accuracy: 0.8768\n",
            "Epoch 5/20\n",
            " 33/176 [====>.........................] - ETA: 52:13 - loss: 0.0203 - accuracy: 0.9938"
          ]
        }
      ],
      "source": [
        "history = model_1.fit(pad_train, y_train, epochs=epochs, batch_size=batch_size,validation_split=0.1)"
      ]
    },
    {
      "cell_type": "code",
      "execution_count": null,
      "metadata": {
        "id": "eaSyjWQdxq8I"
      },
      "outputs": [],
      "source": [
        "evaluation = model_1.evaluate(pad_test,y_test)\n",
        "accuracy = evaluation[1] * 100\n",
        "print(\"Accuracy is : \", accuracy)"
      ]
    },
    {
      "cell_type": "code",
      "execution_count": null,
      "metadata": {
        "id": "7VibM3ggxq4r"
      },
      "outputs": [],
      "source": [
        "from matplotlib import pyplot\n",
        "\n",
        "pyplot.plot(history.history['loss'], color='r')\n",
        "# pyplot.plot(history.history['val_loss'], color='b')\n",
        "pyplot.title('loss curve')\n",
        "pyplot.ylabel('loss')\n",
        "pyplot.xlabel('epoch')\n",
        "pyplot.legend(['loss', 'val_loss'], loc='upper right')\n",
        "pyplot.show()"
      ]
    },
    {
      "cell_type": "code",
      "execution_count": null,
      "metadata": {
        "id": "CaeBxyYGx6tU"
      },
      "outputs": [],
      "source": [
        "from matplotlib import pyplot\n",
        "\n",
        "pyplot.plot(history.history['accuracy'], color='b')\n",
        "# pyplot.plot(history.history['val_accuracy'], color='b')\n",
        "pyplot.title('accuracy curve')\n",
        "pyplot.ylabel('accuracy')\n",
        "pyplot.xlabel('epoch')\n",
        "pyplot.legend(['accuracy', 'val_accuracy'], loc='upper right')\n",
        "pyplot.show()"
      ]
    },
    {
      "cell_type": "code",
      "execution_count": null,
      "metadata": {
        "id": "kNVmpLaux6mO"
      },
      "outputs": [],
      "source": [
        "y_pred = model_1.predict(pad_test)\n",
        "\n",
        "new_y_pred = np.argmax(y_pred, axis=1)\n",
        "new_y_test = np.argmax(y_test, axis=1)\n",
        "\n",
        "conf_arr = np.zeros((num_classes, num_classes))\n",
        "\n",
        "for i in range(len(new_y_pred)):\n",
        "        conf_arr[new_y_pred[i]][new_y_test[i]] += 1\n",
        "\n",
        "df_cm = pd.DataFrame(conf_arr, index = unique_label, columns = unique_label)\n",
        "\n",
        "\n",
        "fig = plt.figure()\n",
        "plt.clf()\n",
        "\n",
        "ax = fig.add_subplot()\n",
        "ax.set_aspect(1)\n",
        "\n",
        "cmap = sb.cubehelix_palette(light=1, as_cmap=True)\n",
        "res = sb.heatmap(df_cm, annot=True, vmin=0.0, vmax=np.max(conf_arr), fmt='.2f', cmap=cmap)\n",
        "\n",
        "plt.title('Confusion Matrix')\n",
        "plt.ylabel('Predicted')\n",
        "plt.xlabel('True')\n",
        "plt.show()"
      ]
    },
    {
      "cell_type": "code",
      "execution_count": null,
      "metadata": {
        "id": "ZGm96sXrx6e3"
      },
      "outputs": [],
      "source": [
        "precision =   precision_score(new_y_test, new_y_pred) * 100\n",
        "recall =  recall_score(new_y_test, new_y_pred) * 100\n",
        "f1_score =  f1_score(new_y_test, new_y_pred) * 100\n",
        "print(precision)\n",
        "print(f1_score)\n",
        "print(recall)"
      ]
    },
    {
      "cell_type": "code",
      "execution_count": null,
      "metadata": {
        "id": "r7qTKzr0GozW"
      },
      "outputs": [],
      "source": [
        "print(classification_report(new_y_test, new_y_pred))"
      ]
    },
    {
      "cell_type": "code",
      "execution_count": null,
      "metadata": {
        "id": "mUBERpaPGowP"
      },
      "outputs": [],
      "source": [
        "from sklearn.metrics import f1_score, precision_score, recall_score\n",
        "\n",
        "precision =   precision_score(new_y_test, new_y_pred) * 100\n",
        "recall =  recall_score(new_y_test, new_y_pred) * 100\n",
        "f1_score =  f1_score(new_y_test, new_y_pred) * 100\n",
        "print('Pricision = ',precision)\n",
        "print('F1_score = ',f1_score)\n",
        "print('Recall = ',recall)"
      ]
    },
    {
      "cell_type": "code",
      "execution_count": null,
      "metadata": {
        "id": "bQjIyEhUGotA"
      },
      "outputs": [],
      "source": [
        "from matplotlib import pyplot\n",
        "\n",
        "pyplot.plot(h['accuracy'], color='b')\n",
        "# pyplot.plot(history.history['val_accuracy'], color='b')\n",
        "pyplot.title('accuracy curve')\n",
        "pyplot.ylabel('accuracy')\n",
        "pyplot.xlabel('epoch')\n",
        "pyplot.legend(['accuracy', 'val_accuracy'], loc='upper right')\n",
        "pyplot.show()"
      ]
    },
    {
      "cell_type": "code",
      "execution_count": null,
      "metadata": {
        "id": "WoR5PsDzGopX"
      },
      "outputs": [],
      "source": [
        ""
      ]
    }
  ],
  "metadata": {
    "accelerator": "GPU",
    "colab": {
      "name": "CSE4238_ProjectCode_B2_Group4.ipynb",
      "provenance": []
    },
    "kernelspec": {
      "display_name": "Python 3",
      "name": "python3"
    },
    "language_info": {
      "name": "python"
    }
  },
  "nbformat": 4,
  "nbformat_minor": 0
}